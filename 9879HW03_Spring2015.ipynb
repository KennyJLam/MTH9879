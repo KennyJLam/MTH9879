{
 "metadata": {
  "name": "9879HW03_Spring2015",
  "signature": "sha256:fb96ba35c93c56c907c916e3e4b83e13ff9f0af07e5c0a05a3f28e312fc92ba1"
 },
 "nbformat": 3,
 "nbformat_minor": 0,
 "worksheets": [
  {
   "cells": [
    {
     "cell_type": "markdown",
     "metadata": {},
     "source": "# MTH9879 Homework 3\n\nAssigned: February 17, 2015.\nDue: March 3, 2015 by 6pm. \n\nLate homework **will not be accepted**.\n\n$$\n\\newcommand{\\supp}{\\mathrm{supp}}\n\\newcommand{\\E}{\\mathbb{E}}\n\\newcommand{\\Eof}[1]{\\mathbb{E}\\left[ #1 \\right]}\n\\def\\Cov{{ \\mbox{Cov} }}\n\\def\\Var{{ \\mbox{Var} }}\n\\newcommand{\\1}{\\mathbf{1} }\n\\newcommand{\\PP}{\\mathbb{P} }\n%\\newcommand{\\Pr}{\\mathrm{Pr} }\n\\newcommand{\\QQ}{\\mathbb{Q} }\n\\newcommand{\\RR}{\\mathbb{R} }\n\\newcommand{\\DD}{\\mathbb{D} }\n\\newcommand{\\HH}{\\mathbb{H} }\n\\newcommand{\\spn}{\\mathrm{span} }\n\\newcommand{\\cov}{\\mathrm{cov} }\n\\newcommand{\\sgn}{\\mathrm{sgn} }\n\\newcommand{\\HS}{\\mathcal{L}_{\\mathrm{HS}} }\n%\\newcommand{\\HS}{\\mathrm{HS} }\n\\newcommand{\\trace}{\\mathrm{trace} }\n\\newcommand{\\LL}{\\mathcal{L} }\n%\\newcommand{\\LL}{\\mathrm{L} }\n\\newcommand{\\s}{\\mathcal{S} }\n\\newcommand{\\ee}{\\mathcal{E} }\n\\newcommand{\\ff}{\\mathcal{F} }\n\\newcommand{\\hh}{\\mathcal{H} }\n\\newcommand{\\bb}{\\mathcal{B} }\n\\newcommand{\\dd}{\\mathcal{D} }\n\\newcommand{\\g}{\\mathcal{G} }\n\\newcommand{\\p}{\\partial}\n\\newcommand{\\half}{\\frac{1}{2} }\n\\newcommand{\\T}{\\mathcal{T} }\n\\newcommand{\\bi}{\\begin{itemize}}\n\\newcommand{\\ei}{\\end{itemize}}\n\\newcommand{\\beq}{\\begin{equation}}\n\\newcommand{\\eeq}{\\end{equation}}\n\\newcommand{\\beas}{\\begin{eqnarray*}}\n\\newcommand{\\eeas}{\\end{eqnarray*}}\n\\newcommand{\\cO}{\\mathcal{O}}\n\\newcommand{\\cF}{\\mathcal{F}}\n\\newcommand{\\cL}{\\mathcal{L}}\n\\newcommand{\\BS}{\\text{BS}}\n$$"
    },
    {
     "cell_type": "markdown",
     "metadata": {},
     "source": "<font color = \"red\">Homework is to be done by each student individually.  To receive full credit, you must email a completed copy of this iPython notebook to Yu Gan (yugan323@gmail.com), Fubo Shi (fubo.shi.baruch@gmail.com), and Tai-Ho Wang (tai-ho.wang@baruch.cuny.edu) by the due date and time.  All R-code must run correctly and solutions must be written up neatly in Markdown/LaTeX format.\n\n<font color=\"blue\">If you encounter problems with Markdown/LaTeX or iPython notebook, please contact your TAs Yu Gan and/or Fubo Shi.\n"
    },
    {
     "cell_type": "markdown",
     "metadata": {},
     "source": "### 0. (0 points) \nRead Chapter 11 of Hasbrouck and Section 3.5 of Foucault, Pagano and R&ouml;ell. <br>\nAlso, read the article on high-frequency trading by Menkveld."
    },
    {
     "cell_type": "markdown",
     "metadata": {},
     "source": "## The Garman (1976) model"
    },
    {
     "cell_type": "markdown",
     "metadata": {},
     "source": "### 1. (6 points) \nSuppose supply and demand functions satisfy\n\n$$\nP_A(\\lambda) = 101 \u2212 18\\lambda + \\lambda^2; \\; P_B(\\lambda) = 61 + 2\\lambda + \\lambda^2,\n$$\n\nwhere $\\lambda$ is the market order arrival rate per minute and $P_B(\\cdot)$ and $P_A(\\cdot)$ denote supply and demand curves respectively. <br>\nDetermine the dealer\u2019s optimal bid $B$ and ask $A$ and the average profit per minute."
    },
    {
     "cell_type": "markdown",
     "metadata": {},
     "source": "## The Stoll (1978) model"
    },
    {
     "cell_type": "markdown",
     "metadata": {},
     "source": "### 2. (4 points) \nIn the Stoll (1978) model, assuming exponential utility with $S \\sim N(\\mu, \\sigma^2)$, and with current inventory $q$ shares, what are the dealer\u2019s indifference bid and ask prices for $n$ shares?"
    },
    {
     "cell_type": "markdown",
     "metadata": {},
     "source": "### 3. (10 points)\nAs mentioned in Lecture 3, in real markets, bid and ask prices $B$ and $A$ are typically given and the dealer must decide how much size to quote at these fixed prices.  Suppose there are currently $Q_A$ offered and $Q_B$ shares bid.  According to Lecture 1,\n\n$$\n\\Eof{S} \\approx M + \\frac s 2 \\,\\frac 4\\pi \\,\\arctan I.\n$$\n\nwhere $M$ is the mid-price, $s=A-B$, and the book imbalance is given by\n\n$$\nI = \\frac{Q_B-Q_A}{Q_B + Q_A}.\n$$\n\nAssume that $S$ is normally distributed with variance $\\sigma^2$, that the dealer has exponential utility, and that his current inventory is $q$.\n\n(a) Use your answer to Problem 2 to show that the indifference size $n_B$ the dealer should quote at the bid $B$ is given by\n\n$$\nn_B = \\frac{s}{\\alpha\\,\\sigma^2}\\,\\left(  1+\\frac 4 \\pi \\,\\arctan I \\right) - 2\\,q.\n$$\n\n(c) Derive a similar formula for the indifference offered quantity $n_A$.\n\n(b) Give your intuition for the sensitivities of $n_B$ and $n_A$ to each of the various inputs.\n"
    },
    {
     "cell_type": "markdown",
     "metadata": {},
     "source": "## Avellaneda and Stoikov (2008)"
    },
    {
     "cell_type": "markdown",
     "metadata": {},
     "source": "### 4. (6 points) \nAccording to the lecture slides, in the Avellaneda and Stoikov model, the optimal bid and ask prices are given in terms of market order arrival rates by\n\n$$\nB=r_B-\\frac{1}{\\alpha}\\,\\log\\left(1 - \\alpha\\,\\frac{{\\lambda_B}(S-B)}{\\lambda_B'(S-B)}\\right).\n$$\n\nSimilarly, the optimal ask price is given by\n\n$$\nA = r_A + \\frac{1}{\\alpha}\\,\\log\\left(1 - \\alpha\\,\\frac{{\\lambda_A}(A-S)}{\\lambda_A'(A-S)}\\right).\n$$\n\nwhere $A= S+\\delta_A$ and $B= S-\\delta_B$.\n\nSuppose that arrival rates of orders (symmetric between market buys and sells) are given by\n\n$$\n\\lambda(\\delta) = e^{-k \\delta \\pm \\beta\\,q}\n$$\n\nfor some constant $\\beta>0$ that reflects adverse selection (i.e., the longer you are, the more market sell orders arrive).\n\n(a) Write down expressions for $A$ and $B$ in terms of $r_A$, $r_B$, $k$, $\\beta$ and $q$.\n\n(b) How does the optimal spread depend on $q$?\n\n(c) Conjecture how the reservation prices $r_A$ and $r_B$ should depend on $q$ if there is adverse selection.\n"
    }
   ],
   "metadata": {}
  }
 ]
}