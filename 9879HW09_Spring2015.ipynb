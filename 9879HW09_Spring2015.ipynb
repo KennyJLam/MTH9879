{
 "metadata": {
  "name": "9879HW09_Spring2015",
  "signature": "sha256:fb96ba35c93c56c907c916e3e4b83e13ff9f0af07e5c0a05a3f28e312fc92ba1"
 },
 "nbformat": 3,
 "nbformat_minor": 0,
 "worksheets": [
  {
   "cells": [
    {
     "cell_type": "markdown",
     "metadata": {},
     "source": "# MTH9879 Homework 9\n\nAssigned: April 21, 2015.\nDue: May 5, 2015 by 6pm. \n\nLate homework **will not be accepted**.\n\n$$\n\\newcommand{\\supp}{\\mathrm{supp}}\n\\newcommand{\\E}{\\mathbb{E}}\n\\newcommand{\\Eof}[1]{\\mathbb{E}\\left[ #1 \\right]}\n\\def\\Cov{{ \\mbox{Cov} }}\n\\def\\Var{{ \\mbox{Var} }}\n\\newcommand{\\1}{\\mathbf{1} }\n\\newcommand{\\PP}{\\mathbb{P} }\n%\\newcommand{\\Pr}{\\mathrm{Pr} }\n\\newcommand{\\QQ}{\\mathbb{Q} }\n\\newcommand{\\RR}{\\mathbb{R} }\n\\newcommand{\\DD}{\\mathbb{D} }\n\\newcommand{\\HH}{\\mathbb{H} }\n\\newcommand{\\spn}{\\mathrm{span} }\n\\newcommand{\\cov}{\\mathrm{cov} }\n\\newcommand{\\sgn}{\\mathrm{sgn} }\n\\newcommand{\\HS}{\\mathcal{L}_{\\mathrm{HS}} }\n%\\newcommand{\\HS}{\\mathrm{HS} }\n\\newcommand{\\trace}{\\mathrm{trace} }\n\\newcommand{\\LL}{\\mathcal{L} }\n%\\newcommand{\\LL}{\\mathrm{L} }\n\\newcommand{\\s}{\\mathcal{S} }\n\\newcommand{\\ee}{\\mathcal{E} }\n\\newcommand{\\ff}{\\mathcal{F} }\n\\newcommand{\\hh}{\\mathcal{H} }\n\\newcommand{\\bb}{\\mathcal{B} }\n\\newcommand{\\dd}{\\mathcal{D} }\n\\newcommand{\\g}{\\mathcal{G} }\n\\newcommand{\\p}{\\partial}\n\\newcommand{\\half}{\\frac{1}{2} }\n\\newcommand{\\T}{\\mathcal{T} }\n\\newcommand{\\bi}{\\begin{itemize}}\n\\newcommand{\\ei}{\\end{itemize}}\n\\newcommand{\\beq}{\\begin{equation}}\n\\newcommand{\\eeq}{\\end{equation}}\n\\newcommand{\\beas}{\\begin{eqnarray*}}\n\\newcommand{\\eeas}{\\end{eqnarray*}}\n\\newcommand{\\cO}{\\mathcal{O}}\n\\newcommand{\\cC}{\\mathcal{C}}\n\\newcommand{\\cF}{\\mathcal{F}}\n\\newcommand{\\cL}{\\mathcal{L}}\n\\newcommand{\\BS}{\\text{BS}}\n$$"
    },
    {
     "cell_type": "markdown",
     "metadata": {},
     "source": "<font color = \"red\">Homework is to be done by each student individually.  To receive full credit, you must email a completed copy of this iPython notebook to Yu Gan (yugan323@gmail.com), Fubo Shi (fubo.shi.baruch@gmail.com), and Tai-Ho Wang (tai-ho.wang@baruch.cuny.edu) by the due date and time.  All R-code must run correctly and solutions must be written up neatly in Markdown/LaTeX format.\n\n<font color=\"blue\">If you encounter problems with Markdown/LaTeX or iPython notebook, please contact your TAs Yu Gan and/or Fubo Shi.\n"
    },
    {
     "cell_type": "markdown",
     "metadata": {},
     "source": "### 1. (12 points)\nFollowing Almgren and Chriss,  assume that the stock price $S_t$ evolves as\n\n$$\ndS_t = \\sigma\\,dZ_t\n$$\n\nand the price $\\tilde S_t$ at which we transact is given by\n\n$$\n\\tilde S_t = S_t - \\eta\\,v_t\n$$\n\nwhere $v_t:=-{\\dot x}_t$ is the rate of trading with $x_0 = X$ and $x_T = 0$.\n\nIn the lecture slides, we showed that with a risk term that penalizes average VaR instead of variance, the risk-adjusted cost of trading associated with a given price path $\\{S_t\\}$ is given by\n\n$$\nC = \\int_0^T\\,(S_t - \\eta\\,v_t) dx_t + \\lambda\\,\\sigma\\,\\int_0^T\\,x_t\\,dt\n$$\n\nfor some price of risk $\\lambda$. We want to find a (possibly state-dependent) control $v_t$ that minimizes the expected cost $\\cC=\\E[C]$.\n\n(a) Apply the technique of integration by parts to simplify the term $\\int_0^T S_t dx_t$. Write down the HJB equation for the resulting problem.\n\n(b) Solve the first order condition to find the optimal trading rate $v^\\star$.    \n\n(c) Substitute $v^\\star$ back into the HJB equation to show that the value function $\\cC$ must satisfy\n$$\n\\cC_t = \\frac{\\cC_x^2}{4\\,\\eta\\,} - \\lambda \\sigma x.\n$$\n\n(d) With the terminal condition, \n$$\\lim_{t\\uparrow T}\\cC(t,x) = \\begin{cases}0&\\text{if $x=0$,}\\\\\n+\\infty&\\text{if $x\\neq0$.}\n\\end{cases}$$\nsolve the HJB equaiton with the ansatz $\\cC(t,x) = a(t)x^2 + b(t)x + c(t)$. Verify that the optimal trading strategy with liquidation horizon set to the characteristic time is given by\n\\begin{eqnarray*}\nx_t&=&X\\,\\left(1-\\frac{t}{T}\\right)^2.\n\\end{eqnarray*}\nRecall that with the notation of the lecture slides, the characteristic time is defined as\n$$\nT^\\star=\\sqrt{\\frac{2\\,X}{A}}=\\sqrt{\\frac{4\\,\\eta\\,X}{\\lambda\\,\\sigma}}\n$$\nCompute the risk-adjusted cost function $\\cC$ associated with this strategy. \n"
    },
    {
     "cell_type": "markdown",
     "metadata": {},
     "source": "## ABM and GBM"
    },
    {
     "cell_type": "markdown",
     "metadata": {},
     "source": "### Set up R environment"
    },
    {
     "cell_type": "code",
     "collapsed": false,
     "input": "%load_ext rpy2.ipython",
     "language": "python",
     "metadata": {},
     "outputs": []
    },
    {
     "cell_type": "code",
     "collapsed": false,
     "input": "%%R\nlibrary(highfrequency)\ndownload.file(url=\"http://mfe.baruch.cuny.edu/wp-content/uploads/2015/03/MSFT130311.rData_.zip\", destfile=\"MSFT130311.zip\")\nunzip(zipfile=\"MSFT130311.zip\")\nload(\"MSFT130311.rData\")",
     "language": "python",
     "metadata": {},
     "outputs": []
    },
    {
     "cell_type": "markdown",
     "metadata": {},
     "source": "### 2. (8 points)\n\nRecall from the lecture slides that with time-averaged VaR as the risk penalty, and when the liquidation time $T$ is chosen to be the characteristic time, the optimal trading rate under ABM becomes\n\n$$\nv^A(t)= \\frac{x_t}{T-t}\\,+\\frac{X}{T}\\,\\left(1-\\frac t T\\right)\n$$\n\nand the optimal trading rate under GBM becomes\n\n$$\nv^G(t)= \\frac{x_t}{T-t}\\,+\\frac{X}{T}\\,\\frac{S_t}{S_0}\\,\\left(1-\\frac t T\\right).\n$$\n\n(a) The *msft.bats* dataset from *MSFT130311.rData* contains all trades on the BATS exchange on 11-Mar-2013.  One trading days has 390 minutes.  Sample the  *msft.bats* dataset evenly, roughly every minute of volume time.  Superimpose plots of the optimal strategy under ABM and GBM assuming liquidation takes place over one trading day.\n\n(b) Denote the corresponding position sizes by $x^A(t)$ and $x^G(t)$ respectively.  What is the maximum deviation of the two position sizes as a percentage of the initial position $X$?  How significant is this deviation?\n\n"
    },
    {
     "cell_type": "markdown",
     "metadata": {},
     "source": "## Kratz and Sch\u00f6neborn with time-averaged VaR risk charge"
    },
    {
     "cell_type": "markdown",
     "metadata": {},
     "source": "### 3. (16 points)\n\n(a) Repeat the computation of the optimal strategy from the lecture slides with time-averaged VaR\n\n$$\n\\lambda\\,\\sigma\\,\\int_0^T\\,x_t\\,dt\n$$\n\nas the risk term (rather than the quadratic variation $\\lambda\\,\\sigma^2\\,\\int_0^T\\,x_t^2\\,dt$).  Show that the optimal position\n\n$$\nx^\\star(t)=\\left(X-\\frac{A\\, T}{\\theta }\\right)\\,\\frac{1-e^{-\\theta\\,(T-t)} }{1-e^{-\\theta\\,T }}+\\frac{A }{\\theta }\\,(T-t)\n$$\nand deduce the optimal trading rate $v^\\star(t)$.\n\n(b) By Taylor-expanding the solution around $\\theta=0$, show that we retrieve the solution derived in the slides with no dark pool\n\n$$\nx^\\star(t)=\\left(X-\\frac{A \\, T}{2}\\,t\\right)\\,\\left(1-\\frac{t}{T}\\right) .\n$$\n\nin the limit $\\theta \\to 0$.\n"
    }
   ],
   "metadata": {}
  }
 ]
}