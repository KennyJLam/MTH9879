{
 "metadata": {
  "name": "9879HW04_Spring2015",
  "signature": "sha256:fb96ba35c93c56c907c916e3e4b83e13ff9f0af07e5c0a05a3f28e312fc92ba1"
 },
 "nbformat": 3,
 "nbformat_minor": 0,
 "worksheets": [
  {
   "cells": [
    {
     "cell_type": "markdown",
     "metadata": {},
     "source": "# MTH9879 Homework 4\n\nAssigned: February 24, 2015.\nDue: March 10, 2015 by 6pm. \n\nLate homework **will not be accepted**.\n\n$$\n\\newcommand{\\supp}{\\mathrm{supp}}\n\\newcommand{\\E}{\\mathbb{E}}\n\\newcommand{\\Eof}[1]{\\mathbb{E}\\left[ #1 \\right]}\n\\def\\Cov{{ \\mbox{Cov} }}\n\\def\\Var{{ \\mbox{Var} }}\n\\newcommand{\\1}{\\mathbf{1} }\n\\newcommand{\\PP}{\\mathbb{P} }\n%\\newcommand{\\Pr}{\\mathrm{Pr} }\n\\newcommand{\\QQ}{\\mathbb{Q} }\n\\newcommand{\\RR}{\\mathbb{R} }\n\\newcommand{\\DD}{\\mathbb{D} }\n\\newcommand{\\HH}{\\mathbb{H} }\n\\newcommand{\\spn}{\\mathrm{span} }\n\\newcommand{\\cov}{\\mathrm{cov} }\n\\newcommand{\\sgn}{\\mathrm{sgn} }\n\\newcommand{\\HS}{\\mathcal{L}_{\\mathrm{HS}} }\n%\\newcommand{\\HS}{\\mathrm{HS} }\n\\newcommand{\\trace}{\\mathrm{trace} }\n\\newcommand{\\LL}{\\mathcal{L} }\n%\\newcommand{\\LL}{\\mathrm{L} }\n\\newcommand{\\s}{\\mathcal{S} }\n\\newcommand{\\ee}{\\mathcal{E} }\n\\newcommand{\\ff}{\\mathcal{F} }\n\\newcommand{\\hh}{\\mathcal{H} }\n\\newcommand{\\bb}{\\mathcal{B} }\n\\newcommand{\\dd}{\\mathcal{D} }\n\\newcommand{\\g}{\\mathcal{G} }\n\\newcommand{\\p}{\\partial}\n\\newcommand{\\half}{\\frac{1}{2} }\n\\newcommand{\\T}{\\mathcal{T} }\n\\newcommand{\\bi}{\\begin{itemize}}\n\\newcommand{\\ei}{\\end{itemize}}\n\\newcommand{\\beq}{\\begin{equation}}\n\\newcommand{\\eeq}{\\end{equation}}\n\\newcommand{\\beas}{\\begin{eqnarray*}}\n\\newcommand{\\eeas}{\\end{eqnarray*}}\n\\newcommand{\\cO}{\\mathcal{O}}\n\\newcommand{\\cF}{\\mathcal{F}}\n\\newcommand{\\cL}{\\mathcal{L}}\n\\newcommand{\\BS}{\\text{BS}}\n$$"
    },
    {
     "cell_type": "markdown",
     "metadata": {},
     "source": "<font color = \"red\">Homework is to be done by each student individually.  To receive full credit, you must email a completed copy of this iPython notebook to Yu Gan (yugan323@gmail.com), Fubo Shi (fubo.shi.baruch@gmail.com), and Tai-Ho Wang (tai-ho.wang@baruch.cuny.edu) by the due date and time.  All R-code must run correctly and solutions must be written up neatly in Markdown/LaTeX format.\n\n<font color=\"blue\">If you encounter problems with Markdown/LaTeX or iPython notebook, please contact your TAs Yu Gan and/or Fubo Shi.\n"
    },
    {
     "cell_type": "markdown",
     "metadata": {},
     "source": "### 0. (0 points) \nRead Chapter 5 and 6 of Hasbrouck and Chapters 2 and 3 of Foucault, Pagano and R&ouml;ell. \n"
    },
    {
     "cell_type": "markdown",
     "metadata": {},
     "source": "## Glosten and Milgrom"
    },
    {
     "cell_type": "markdown",
     "metadata": {},
     "source": "### 1. (8 points) \n\n(Adapted from Hasbrouck 5.2 but please note that the setup in (3) in the slides is different from Hasbrouck's in Figure 5.1 of his book.) Consider a variant of the Glosten and Milgrom model where there is informed trading only in the low state $V=\\underline V$.\n\n(a) Show that the learned probability after one step that the true price is $\\bar V$ is given by\n\n$$\n\\delta_1(Buy)=\\Pr(\\bar V|Buy)=\\frac{\\delta}{1-\\mu\\,(1-\\delta)};\\quad \\delta_1(Sell)=\\Pr(\\bar V|Sell)=\\frac{\\delta}{1+\\mu\\,(1-\\delta)}\n$$\n\nand that\n\n$$\nA=\\frac{\\underline V\\,{(1-\\delta)\\,(1-\\mu)}+\\bar V\\,{\\delta}}{{1-\\mu\\,(1-\\delta)}};\\quad B=\\frac{\\underline V\\,{(1-\\delta)\\,(1+\\mu)}+\\bar V\\,{\\delta}}{1+\\mu\\,(1-\\delta)}\n$$\n\n(b) Deduce an expression for the spread $s=A-B$.\n\n(c) Explain the sensitivities of the spread to the parameters of the model to a non-expert.\n"
    },
    {
     "cell_type": "markdown",
     "metadata": {},
     "source": "### Set up R environment for the next questions"
    },
    {
     "cell_type": "code",
     "collapsed": false,
     "input": "%load_ext rpy2.ipython",
     "language": "python",
     "metadata": {},
     "outputs": [],
     "prompt_number": 1
    },
    {
     "cell_type": "code",
     "collapsed": false,
     "input": "%%R\ndownload.file(url=\"http://mfe.baruch.cuny.edu/wp-content/uploads/2015/02/tq.zip\", destfile=\"tq.zip\")\nunzip(zipfile=\"tq.zip\")",
     "language": "python",
     "metadata": {},
     "outputs": [],
     "prompt_number": 8
    },
    {
     "cell_type": "code",
     "collapsed": false,
     "input": "%%R\nload(\"tq.rData\")\nlibrary(highfrequency)",
     "language": "python",
     "metadata": {},
     "outputs": [],
     "prompt_number": 21
    },
    {
     "cell_type": "markdown",
     "metadata": {},
     "source": "## The Lee and Ready tick test"
    },
    {
     "cell_type": "markdown",
     "metadata": {},
     "source": "### 2. (10 points) \n\nIn the following use the trades and quotes object *tqBAC* in the loaded data *tq.rData*.  Denote trade prices by $p_t$ and mid-quotes by $m_t$.\n\n(a) Compute the time series of trade signs $\\epsilon_t$ according to $\\epsilon_t=+1$ if $p_t>m_t$ and  $\\epsilon_t=-1$ otherwise, using the Lee-Ready rule for trades at mid.  Name this series *tradeSigns*. (Note this was already done in the lecture.)\n\n(b) Compute the Lee-Ready trade-sign indicator time series (as if you didn't have quotes and so no mid-prices).\n\n(c) Compute the correlation of these two indicators.\n\n(d) Assume the rule in part (a) is 100% accurate.  What percentage of trades are correctly signed by the Lee-Ready test?\n\n(e) Explain the relationship between your answers in (c) and (d).\n"
    },
    {
     "cell_type": "markdown",
     "metadata": {},
     "source": "## Realized spread by exchange"
    },
    {
     "cell_type": "markdown",
     "metadata": {},
     "source": "### 3. (8 points)\n\n(a) Reproduce Figure 6 from the lecture slides, making sure to get the aesthetics right.\n\n(b) Explain why the realized spread profile varies by exchange.\n\n(c) Redo the picture adjusting for the following (assumed) take fees:\n\n** Exchange ** | ** Take fee ** \n--- | --- \n| (**cents**)\nD | 0.10 \nB | -0.04\nZ | 0.29\nY | 0.00\nP | 0.25\n\n(d) Based on your results, where would you advise sending a small market order?  How about a large one?\n"
    },
    {
     "cell_type": "markdown",
     "metadata": {},
     "source": "## Predicting trade signs"
    },
    {
     "cell_type": "markdown",
     "metadata": {},
     "source": "### 4. (6 points) \n\nThe following require the *tradeSigns* series from Problem 2.\n\n(a) Denote the probability of a sign reversal by $\\pi$.  Derive an expression in terms of $\\pi$ for the conditional expectation $\\E[\\epsilon_t|\\epsilon_{t-1}]$.\n\n(b) Assume zero expectation of the trading signs, fit an AR(1) model to the series *tradeSigns*.  What is the coefficient returned by this model?  Explain how  this coefficient relates to $\\pi$?\n"
    },
    {
     "cell_type": "markdown",
     "metadata": {},
     "source": "## The MRR model"
    },
    {
     "cell_type": "markdown",
     "metadata": {},
     "source": "### 5. (6 points)\nUsing the estimate of $\\rho$ (the coefficient obtained from fitting to an AR(1) model) from Problem 4 and equation (11) from the lecture slides:\n\n$$\n\\Delta p_t=(\\phi+\\lambda)\\,\\epsilon_t-(\\phi+\\rho\\,\\lambda)\\,\\epsilon_{t-1}+e_t+\\Delta \\xi_t\n$$\n\nestimate by linear regression the MRR parameters $\\phi$ (transaction cost) and $\\lambda$ (adverse selection or \"Kyle lambda\") from  *tqBAC*.  This amounts to ignoring the autocorrelation of the $\\Delta \\xi_t$.\n<br>\n\nHint: Use the R function *lm*  to perform the linear regressions."
    }
   ],
   "metadata": {}
  }
 ]
}