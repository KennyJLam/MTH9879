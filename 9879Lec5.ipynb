{
 "metadata": {
  "name": "9879Lec5",
  "signature": "sha256:aef1503aea3670a2b7cada104f30c876161162781b8d70115c98fd92d63c7caa"
 },
 "nbformat": 3,
 "nbformat_minor": 0,
 "worksheets": [
  {
   "cells": [
    {
     "cell_type": "markdown",
     "metadata": {
      "slideshow": {
       "slide_type": "slide"
      }
     },
     "source": "# MTH 9879 Market Microstructure Models,    Spring 2015 \n\n## Lecture 5: Price formation under asymmetric information: The Kyle model\n\nTai-Ho Wang    \nDepartment of Mathematics   \n  \n  \n<h2><img src=\"http://mfe.baruch.cuny.edu/wp-content/uploads/2014/09/BCCUNYstacked_BLK.jpg\" align = \"center\" width=160></h2>  \n\n$$\n\\newcommand{\\bea}{\\begin{eqnarray}}\n\\newcommand{\\eea}{\\end{eqnarray}}\n\\newcommand{\\supp}{\\mathrm{supp}}\n\\newcommand{\\F}{\\mathcal{F} }\n\\newcommand{\\cF}{\\mathcal{F} }\n\\newcommand{\\E}{\\mathbb{E} }\n\\newcommand{\\Eof}[1]{\\mathbb{E}\\left[ #1 \\right]}\n\\def\\Cov{{ \\mbox{Cov} }}\n\\def\\Var{{ \\mbox{Var} }}\n\\newcommand{\\1}{\\mathbf{1} }\n\\newcommand{\\p}{\\partial}\n\\newcommand{\\PP}{\\mathbb{P} }\n\\newcommand{\\Pof}[1]{\\mathbb{P}\\left[ #1 \\right]}\n\\newcommand{\\QQ}{\\mathbb{Q} }\n\\newcommand{\\R}{\\mathbb{R} }\n\\newcommand{\\DD}{\\mathbb{D} }\n\\newcommand{\\HH}{\\mathbb{H} }\n\\newcommand{\\spn}{\\mathrm{span} }\n\\newcommand{\\cov}{\\mathrm{cov} }\n\\newcommand{\\HS}{\\mathcal{L}_{\\mathrm{HS}} }\n\\newcommand{\\Hess}{\\mathrm{Hess} }\n\\newcommand{\\trace}{\\mathrm{trace} }\n\\newcommand{\\LL}{\\mathcal{L} }\n\\newcommand{\\s}{\\mathcal{S} }\n\\newcommand{\\ee}{\\mathcal{E} }\n\\newcommand{\\ff}{\\mathcal{F} }\n\\newcommand{\\hh}{\\mathcal{H} }\n\\newcommand{\\bb}{\\mathcal{B} }\n\\newcommand{\\dd}{\\mathcal{D} }\n\\newcommand{\\g}{\\mathcal{G} }\n\\newcommand{\\half}{\\frac{1}{2} }\n\\newcommand{\\T}{\\mathcal{T} }\n\\newcommand{\\bit}{\\begin{itemize}}\n\\newcommand{\\eit}{\\end{itemize}}\n\\newcommand{\\beq}{\\begin{equation}}\n\\newcommand{\\eeq}{\\end{equation}}\n\\newcommand{\\tr}{\\mbox{tr}}\n\\newcommand{\\underbar}{\\underline}\n$$\n"
    },
    {
     "cell_type": "markdown",
     "metadata": {
      "slideshow": {
       "slide_type": "slide"
      }
     },
     "source": "## Outline of Lecture 5\n\n-   Bayesian learning\n\n-   Asymmetric information\n\n-   Equilibrium price under na\u00efve expectations\n\n-   Asymmetric information under perfect competition: The\n    Grossman-Stiglitz (1980) model\n\n-   Rational expectations with strategic traders under imperfect\n    competition: The Kyle model\n\n-   Linear regression and rational expectations\n\n"
    },
    {
     "cell_type": "markdown",
     "metadata": {
      "slideshow": {
       "slide_type": "slide"
      }
     },
     "source": "### Price formation\n\n-   According to classical economics, supply and demand are matched at\n    the efficient price (though the mechanism is unclear). Information\n    is symmetric.\n\n\n-   In reality, some traders have more or better information than\n    others. That is, information is asymmetric.\n\n    -   Even in a purely mechanical model such as ZI, there are trading\n        signals. Faster and better traders have an advantage.\n\n    -   This informational advantage requires investment. For example,\n        gaining a latency advantage requires colocation.\n\n\n-   How does this information get impounded into prices?\n\n"
    },
    {
     "cell_type": "markdown",
     "metadata": {
      "slideshow": {
       "slide_type": "slide"
      }
     },
     "source": "### CARA utility again\n\n-   <span>CARA stands for *<span>Constant Absolute Risk\n    Aversion</span>*</span>.\n\n\n-   <span>The utility function is $$U(W)=-e^{-\\lambda\\,W}$$ </span>\n\n\n-   <span>If $W$ is normally distributed,\n    $$\\mathbb{E} \\left[U(W)\\right]=\\mathbb{E} \\left[-e^{-\\alpha\\,W}\\right]=-\\exp\\left\\{-\\alpha\\,\\left(\\mathbb{E} [W]-\\alpha/2\\,\\mbox{Var}[W]\\right)\\right\\}$$\n    so maximizing CARA utility is equivalent to maximizing\n    $$\\mathcal{L} (W)=\\mathbb{E} [W]-\\alpha/2\\,\\mbox{Var}[W]$$ which is just\n    mean-variance optimization. </span>\n\n\n-   <span>$\\mathbb{E} [W]-\\alpha/2\\,\\mbox{Var}[W]$ is called the\n    <span>*certainty equivalent*</span> of $W$.</span>\n\n"
    },
    {
     "cell_type": "markdown",
     "metadata": {
      "slideshow": {
       "slide_type": "slide"
      }
     },
     "source": "### Trader demand under CARA utility\n\nLet $p$ be the current asset price and $\\tilde S$ be the terminal asset\nprice with $\\tilde S \\sim N(\\mu,\\sigma^2)$.\n\nThe trader is assumed to maximize utility of terminal wealth\n$W=y\\,(\\tilde S-p)$:\n\n\\begin{eqnarray*}\n0&=&\\partial_y\\,\\left\\{\\mathbb{E} [y\\,(\\tilde S-p)]-\\frac 12\\,\\alpha\\,\\mbox{Var}[y\\,\\tilde S]\\right\\}\\\\\n&=&\\partial_y\\,\\left\\{y\\,(\\mu-p)-\\frac 12\\,\\alpha\\,y^2\\,\\sigma^2\\right\\}\\\\\n&=&\\mu-p-\\alpha\\,y\\,\\sigma^2\\end{eqnarray*}\n\nThen the optimal trader demand $y$ is given by\n$$y=\\frac{\\mathbb{E} [\\tilde S]-p}{\\alpha\\,\\sigma^2}=\\frac{\\mu-p}{\\alpha\\,\\sigma^2}.$$\n\n"
    },
    {
     "cell_type": "markdown",
     "metadata": {
      "slideshow": {
       "slide_type": "slide"
      }
     },
     "source": "### Bayes\u2019 Rule for continuous random variables\n\n-   Suppose the trader has a prior belief on the parameter $ y$\n    described by the distribution $g( y)$.\n\n\n-   This trader then makes an observation $x$ (such as a trade price).\n\n    -   Denote the conditional density of $x$ by $f(x| y)$.\n\n\n-   Then because $$g( y|x)\\,f(x)=f(x| y)\\,g( y),$$ we have\n\n    #### <font color=\"red\">Bayes\u2019 Rule\n    \n    <font color=\"red\"><a name=\"eq:BayesCts\"></a>(1)\n    $$g( y|x)=\\frac{f(x| y)\\,g( y)}{f(x)}=\\frac{f(x| y)\\,g( y)}{\\int\\,f(x| y)\\,g( y)\\,d y}$$"
    },
    {
     "cell_type": "markdown",
     "metadata": {
      "slideshow": {
       "slide_type": "slide"
      }
     },
     "source": "### Bayes\u2019 Rule for normal random variables\n\nSuppose\n\n$$g( y)=\\frac{1}{\\sqrt{2\\,\\pi}\\,\\sigma_ y}\\,\\exp\\left\\{-\\frac{( y-\\bar y)^2}{2\\,\\sigma_ y^2}\\right\\}$$\n\nand\n\n$$f(x| y)=\\frac{1}{\\sqrt{2\\,\\pi}\\,\\sigma_x}\\,\\exp\\left\\{-\\frac{(x- y)^2}{2\\,\\sigma_x^2}\\right\\}.$$\n\nSubstituting into [(1)](#eq:BayesCts) gives\n\n$$g( y|x)=\\sqrt{\\frac{\\tau_ y+\\tau_x}{2\\,\\pi}}\\,\\exp\\left\\{-\\frac{\\left( y - \\beta \\,x - (1-\\beta)\\,\\bar y\\right)^2}{2\\,(1-\\beta)\\,\\sigma_ y^2}\\right\\}$$\n\nwhere $\\tau_i={1}/{\\sigma_i^2}$ is <span>*precision*</span> and\n\n$$\\beta=\\frac{\\tau_x}{\\tau_ y+\\tau_x}.$$\n\n"
    },
    {
     "cell_type": "markdown",
     "metadata": {
      "slideshow": {
       "slide_type": "slide"
      }
     },
     "source": "### The filter (a simple Kalman filter)\n\n#### <font color=\"red\">Filtering with normal distributions</font>\n\n<font color=\"red\">So, if $ y \\sim N(\\bar y,\\sigma_ y^2)$ and $x| y \\sim N( y,\\sigma_x^2)$,</font>\n<br>\n\n<font color=\"red\"><a name=\"eq:normalFilter\"></a>\n(2)\n$$y|x \\sim N(\\beta\\,x+(1-\\beta)\\,\\bar y,(1-\\beta)\\,\\sigma_ y^2)$$\n</font>\n\n\n-   If both prior and observation distributions are normal, the\n    posterior distribution will also be normal.\n\n    -   The mean of the posterior distribution is a linear combination\n        of the prior mean and the observation, with weights proportional\n        to their precisions.\n\n    -   The variance of the posterior is lower than both the variance of\n        the prior and the variance of the measurement.\n\n\n-   As we make more observations, the true value of the variable of\n    interest is progressively revealed.\n\n"
    },
    {
     "cell_type": "markdown",
     "metadata": {
      "slideshow": {
       "slide_type": "slide"
      }
     },
     "source": "### A model with asymmetric information\n\n-   Consider a model with a single risky asset (a stock).\n\n\n-   There are $N_i$ informed traders, $N_u$ uninformed traders, and\n    $N_z$ noise traders. They have demand functions $y_i$, $y_u$ and\n    $y_z$ respectively with $$y_z \\sim N(0,\\sigma_z^2).$$\n\n\n-   Agents hold a prior distribution on the expected future value\n    $\\tilde S$ of the asset: $$\\tilde S \\sim N(\\mu,\\sigma^2).$$\n\n\n-   Agents do not take into account market impact when trading.\n\n\n-   At time $t=0$, informed traders receive a signal $x$ on $\\tilde S$ which\n    is drawn from the distribution\n    $$x|\\tilde S \\sim N(\\tilde S,\\sigma_x^2)$$\n\n"
    },
    {
     "cell_type": "markdown",
     "metadata": {
      "slideshow": {
       "slide_type": "slide"
      }
     },
     "source": "### Computation of trader demands for the asset\n\n-   As above, an application of Bayes\u2019 Rule then shows that\n    $$\\tilde S|x \\sim N(\\beta\\,x+(1-\\beta)\\,\\mu,(1-\\beta)\\,\\sigma^2)$$\n    with $$\\beta=\\frac{\\tau_x}{\\tau_S+\\tau_x}$$\n\n\n-   At $t=1$, trading takes place.\n\n\n-   Optimal trader demand assuming CARA utility (see above) is given by\n    $$y_u=\\frac{\\mathbb{E} [\\tilde S]-p}{\\alpha\\,\\mbox{Var}[\\tilde S]};\\,y_i=\\frac{\\mathbb{E} [\\tilde S|x]-p}{\\alpha\\,\\mbox{Var}[\\tilde S|x]}$$\n\n\n-   At $t=2$, the value of the asset is revealed and becomes public\n    information.\n\n"
    },
    {
     "cell_type": "markdown",
     "metadata": {
      "slideshow": {
       "slide_type": "slide"
      }
     },
     "source": "### Equilibrium price under na\u00efve expectations\n\nThe market clearing condition is just \n\n$$N_i\\,y_i+N_u\\,y_u+N_z\\,y_z=0$$\n\nso\n\n$$N_i\\,\\frac{\\mathbb{E} [\\tilde S|x]-p}{\\alpha\\,\\mbox{Var}[\\tilde S|x]}+N_u\\,\\frac{\\mathbb{E} [\\tilde S]-p}{\\alpha\\,\\mbox{Var}[\\tilde S]}+N_z\\,y_z=0$$\n\nSolving for $p$ gives an expression of the form\n\n$$p=\\theta\\,\\mathbb{E} [\\tilde S|x]+(1-\\theta)\\,\\mu+\\lambda\\,y_z$$\n\nSubstituting $\n\\mathbb{E} [\\tilde S|x]=\\beta\\,x+(1-\\beta)\\,\\mu=\\mu+\\beta\\,(x-\\mu)\n$ gives\n\n<a name=\"eq:pNaive\"></a>(3)\n$$p=\\mu+\\beta\\,\\theta\\,(x-\\mu)+\\lambda\\,y_z$$"
    },
    {
     "cell_type": "markdown",
     "metadata": {
      "slideshow": {
       "slide_type": "slide"
      }
     },
     "source": "### \n\nThe last term in [(3)](#eq:pNaive) is just noise and the product $\\beta\\,\\theta \\leq 1$ so\nthe equilibrium price $p$ is a noisy version of the signal $x$.\n\n-   If there are only informed traders, $p=\\mathbb{E} [\\tilde S|x]$.\n\n-   If there are only uninformed traders, $p=\\mathbb{E} [\\tilde S]=\\mu$.\n\n-   If there are only noise traders, the price is undetermined.\n\nIn this version of the model, uninformed traders don\u2019t update their\nprior using information contained in the market price. That\u2019s why this\nequilibrium is termed <span>*na\u00efve*</span>.\n\n-   Let\u2019s now see what happens under rational expectations.\n\n"
    },
    {
     "cell_type": "markdown",
     "metadata": {
      "slideshow": {
       "slide_type": "slide"
      }
     },
     "source": "### Grossman and Stiglitz (1980)\n\n-   The setup is as before: Both $\\mathcal{I} $ and $\\mathcal{U} $ have\n    CARA utility, $\\tilde S \\sim N(\\mu,\\sigma^2)$ is unknown, and\n    $\\mathcal{I} $ receives a signal $x \\sim N(\\tilde S, \\sigma_x^2)$.\n\n\n-   In contrast to the na\u00efve equilibrium case however, $\\mathcal{U} $\n    updates his prior after observing the market price. Quoting Grossman\n    and Stiglitz (but with our notation),\n\n    > If over time uninformed traders observe many realizations of\n    > $\\{\\tilde S, p\\}$, then they learn the joint distribution of\n    > $\\{\\tilde S, p\\}$. After all learning about the joint distribution\n    > of $\\{\\tilde S, p\\}$ ceases, all traders will make allocations and\n    > form expectations such that this joint distribution persists over\n    > time.\n\n"
    },
    {
     "cell_type": "markdown",
     "metadata": {
      "slideshow": {
       "slide_type": "slide"
      }
     },
     "source": "### Fully revealing rational expectations equilibrium (REE)\n\n-   From equation [(3)](#eq:pNaive), with no noise trading ($y_z=0$),\n    $$p=\\mu+\\beta\\,\\theta\\,(x-\\mu)$$ so $\\mathcal{U} $ can obtain the\n    value of $x$ by regression.\n\n\n-   The informed trader $\\mathcal I$\u2019s signal $x$ can be perfectly inferred by\n    $\\mathcal{U} $ from the price $p$.\n\n    -   Thus the equilibrium is <span>*fully revealing*</span>.\n\n    -   $y_i=y_u=0$ and there is no trading.\n\n\n-   The equilibrium price is given by\n\n    <a name=\"eq:pREE\"></a>(4)\n    $$p=\\mathbb{E} [\\tilde S|x].$$\n\n\n-   Prices are strong-form efficient because they fully incorporate\n    public and private information.\n\n"
    },
    {
     "cell_type": "markdown",
     "metadata": {
      "slideshow": {
       "slide_type": "slide"
      }
     },
     "source": "### The need for noise traders\n\n-   The realization that under the Efficient Markets hypothesis,\n    uninformed traders can learn the signal at zero cost from the market\n    price was the motivation for Grossman and Stiglitz (1980) to\n    introduce a random noise trader demand $y_z$.\n\n    -   If all information is fully impounded in the price, informed\n        traders conclude they should pay nothing for information. But\n        then there are no informed traders and there is no equilibrium.\n\n    -   Having no one informed is also not an equilibrium, because then\n        each trader, taking the price as given, feels that there are\n        profits to be made from becoming informed.\n\n\n-   With the random demand $y_z$, the market clearing condition becomes\n\n    <a name=\"eq:GS80-2\"></a>(5)\n    $$y_u+y_i+y_z=0$$\n\n    and $x$ can no longer be inferred perfectly from $p$.\n\n"
    },
    {
     "cell_type": "markdown",
     "metadata": {
      "slideshow": {
       "slide_type": "slide"
      }
     },
     "source": "### Another quote from Grossman and Stiglitz\n\n> The only way informed traders can earn a return on their activity of\n> information gathering, is if they can use their information to take\n> positions in the market which are \u201cbetter\u201d than the positions of\n> uninformed traders. \u201cEfficient Markets\u201d theorists have claimed that\n> \u201cat any time prices fully reflect all available information\u201d (see\n> Eugene Fama, p. 383). If this were so then informed traders could not\n> earn a return on their information.\n\n"
    },
    {
     "cell_type": "markdown",
     "metadata": {
      "slideshow": {
       "slide_type": "slide"
      }
     },
     "source": "### Imperfect vs perfect competition\n\nGrossman and Stiglitz assume perfect competition. Under this assumption,\ntraders are schizophrenic:\n\n-   They don\u2019t consider the effect of their own trades on the market\n    price.\n\nKyle addressed this problem by introducing the assumption of\n<span>*imperfect competition*</span>. With this assumption\n\n-   Traders do factor in the effect of their trading on the market\n    price.\n\n-   Prices cannot reveal more than half the information available to\n    insiders (at least in the one-step model).\n\nTo quote Kyle:\n\n> ...the competitive rational expectations concept requires each trader\n> to behave \u201cschizophrenically\u201d by taking the equilibrium price as given\n> when making his trading decision, even though he influences that price\n> when he trades.\n\n"
    },
    {
     "cell_type": "markdown",
     "metadata": {
      "slideshow": {
       "slide_type": "slide"
      }
     },
     "source": "### Kyle (1985)\n\n-   There is a single informed trader who trades strategically.\n\n    -   When computing his optimal course of action, this trader takes\n        into account the rational reactions of other traders.\n\n\n-   This informed trader sets his trade sizes taking cost of execution\n    into account.\n\n\n-   In the multiperiod version, the trader can return to the market,\n    spreading out his trades over time.\n\n    -   This feature of the model is particularly relevant now with\n        small ticks and fragmented markets leading to only very small\n        size typically available on each side of the market.\n\n    -   A trader with large size to trade must split the trade into\n        smaller pieces.\n\n"
    },
    {
     "cell_type": "markdown",
     "metadata": {
      "slideshow": {
       "slide_type": "slide"
      }
     },
     "source": "### Kyle model setup\n\n-   One asset economy.\n\n\n-   One informed trader, a group of risk-neutral market makers, and a\n    group of uninformed (liquidity) traders.\n\n\n-   At time $t=0$, the informed trader (insider) discovers what the\n    final price $\\tilde S$ will be.\n\n\n-   All traders know the distribution of $\\tilde S$:\n    $$\\tilde S \\sim N(\\mu,\\sigma^2).$$\n\n\n-   At time $t=1$, uninformed (liquidity) traders submit a random net\n    demand $y_u \\sim N(0,\\sigma_u^2)$, independent of $\\tilde S$.\n\n"
    },
    {
     "cell_type": "markdown",
     "metadata": {
      "slideshow": {
       "slide_type": "slide"
      }
     },
     "source": "### \n\n-   Competition drives market makers to offer the price function\n    $$p(y)=\\mathbb{E} [\\tilde S|y]$$ so that expected profits are\n    $$\\mathbb{E} [(p(y)-\\tilde S)\\,y|y]=0.$$\n\n    -   The market makers know that there are informed traders.\n\n    -   However, they see only the aggregate order flow $y=y_i+y_u$.\n        They cannot distinguish between informed and uninformed flow.\n\n\n-   If there were no informed traders, the price function would be\n    $$p(y)=\\mathbb{E} [\\tilde S|y_u]=\\mathbb{E} [\\tilde S]=\\mu$$ which\n    is independent of size so the market would be infinitely deep.\n\n"
    },
    {
     "cell_type": "markdown",
     "metadata": {
      "slideshow": {
       "slide_type": "slide"
      }
     },
     "source": "### A market mechanism\n\n-   In the above, we just assume that the market mechanism will drive\n    market maker profits to zero (<span>*perfect competition*</span>).\n\n\n-   On page 137 of [Foucault, Pagano and R\u00f6ell]<sup id=\"cite_ref-FPR\" class=\"reference\"><a href=\"#cite_note-FPR\"><span>[</span>2<span>]</span></a></sup>, there is a nice explanation of a possible\n    mechanism by which perfect competition might be achieved:\n\n    -   The entire order flow $y = y_i+y_u$ is displayed to the market\n        makers.\n\n    -   Each market maker responds with his price for executing the\n        order in full. The entire flow will be routed to the market\n        maker with the best price.\n\n    -   Market makers undercut each other until the zero-profit price\n        $p(y)=\\mathbb{E} [\\tilde S|y]$ is reached.\n\n\n-   Note that the price achieved depends in general on the market\n    mechanism.\n\n"
    },
    {
     "cell_type": "markdown",
     "metadata": {
      "slideshow": {
       "slide_type": "slide"
      }
     },
     "source": "### Characterization of equilibrium\n\nTraders are risk-neutral. In equilibrium,\n\n-   Market makers ($\\mathcal{M} $) maximize expected profits (in fact, market makers \"set price\" because under perfect competition they have zero expected profit) conditional\n    on the observed order flow.\n\n    -   The order flow has an informed component so $\\mathcal{M} $ can\n        extract information about the price.\n\n\n-   The informed trader ($\\mathcal{I} $) sets $y_i$ so as to maximize\n    his expected profit given his rational expectation of the impact of\n    his order on the market price.\n\n    -   $\\mathcal{I} $ knows that his order flow will end up giving\n        information to $\\mathcal{M} $.\n\n"
    },
    {
     "cell_type": "markdown",
     "metadata": {
      "slideshow": {
       "slide_type": "slide"
      }
     },
     "source": "### The informed trader\u2019s strategy\n\n-   $\\mathcal{I} $ chooses his demand function $y_i$ so as to maximize\n    his expected profit $$\\mathbb{E} [y_i\\,(\\tilde S-p(y))|\\tilde S].$$\n    His optimal strategy thus depends on $p(y)$.\n\n\n-   $\\mathcal{I} $ conjectures that the pricing function set by\n    $\\mathcal{M} $ is of the form $$p(y)=\\mu+\\lambda\\,y, $$\n    i.e., half spread is proportional to the total demand. \n\n\n-   $\\mathcal{I} $\u2019s expected profit is then\n    $$\\mathbb{E} [y_i\\,(\\tilde S-p(y))|\\tilde S] = \\mathbb{E} [y_i\\,(\\tilde S- \\mu - \\lambda(y_i + y_u))|\\tilde S] = y_i\\,(\\tilde S-\\mu-\\lambda\\,y_i)$$\n    since the uninformed demand $y_u$ is independent of $\\tilde S$ and has mean 0.\n\n\n-   Maximizing with respect to $y_i$ then gives $\\mathcal{I} $\u2019s optimal demand as\n    $$y_i=\\frac{\\tilde S-\\mu}{2\\,\\lambda}.$$\n\n"
    },
    {
     "cell_type": "markdown",
     "metadata": {
      "slideshow": {
       "slide_type": "slide"
      }
     },
     "source": "### The Kyle lambda\n\n-   Recall that $$p(y)=\\mu+\\lambda\\,y.$$\n\n\n-   The <span>*Kyle lambda*</span> $\\lambda$ is a measure of market\n    liquidity;\n\n    -   The lower $\\lambda$ is, the more liquid the market.\n\n    -   Equivalently, $\\lambda$ is a market impact coefficient in a\n        linear model of market impact. The higher $\\lambda$ is, the\n        greater the market impact of a trade.\n\n    -   The Kyle lambda may be viewed as the definition of a market\n        statistic. Empirically, $\\lambda$ is the slope in a linear\n        regression of $p$ against $y$.\n\nQuote from Kyle (1985)\n\n> Roughly speaking, Black defines a liquid market as one which is almost infinitely tight, which is not infinitely deep, and which is resilient enough so that prices eventually tend to their underlying value. \n\n> Our continuous auction equilibrium has exactly the characteristics described by Black. Furthermore, these aspects of market liquidity acquire a new prominence in our model because the insider, who does not trade as a perfect competitor, must make rational conjectures about tightness, depth, and resiliency in choosing his optimal quantity to trade. \n"
    },
    {
     "cell_type": "markdown",
     "metadata": {
      "slideshow": {
       "slide_type": "slide"
      }
     },
     "source": "### The market markers\u2019 pricing strategy\n\n-   $\\mathcal{M} $ conjectures that $\\mathcal{I} $\u2019s demand function is\n    of the form $$y_i=a+b\\,\\tilde S.$$\n\n\n-   Knowing the optimization process followed by $\\mathcal{I} $,\n    $\\mathcal{M} $ can solve for $a$ and $b$:\n    $$y_i=\\frac{\\tilde S-\\mu}{2\\,\\lambda}=a+b\\,\\tilde S \\quad \\forall \\tilde S$$\n    So\n\n    <a name=\"eq:mConjecture\"></a>(6)\n    $$a= -\\frac{\\mu}{2\\,\\lambda} \\text { and } b= \\frac{1}{2\\,\\lambda}.$$\n\n    In particular, $\\mathcal{I} $ trades less as $\\lambda$ increases.\n\n\n-   $\\mathcal{M} $ sets the pricing function as\n    $$p(y)=\\mu+\\lambda\\,y=\\mathbb{E} [\\tilde S|y]$$ so we need to\n    compute $\\mathbb{E} [\\tilde S|y]$."
    },
    {
     "cell_type": "markdown",
     "metadata": {
      "slideshow": {
       "slide_type": "slide"
      }
     },
     "source": "### Bivariate normal projection\n\nLet $x$ and $y$ be bivariate normally distributed and consider the\nregression \n\n$$y = \\beta\\, x+\\epsilon \\text{ with } x \\perp \\epsilon.$$\n\nThen \n\n$$\\beta  = \\frac{\\mbox{Cov}[ y,x]}{\\mbox{Var}[x]}$$ \n\nand we obtain\n\n#### <font color=\"red\"> Normal regression\n<font color=\"red\">\n<a name=\"eq:regression\"></a>(7)\n\\begin{eqnarray*}\n\\mathbb{E} [y| x]&=&\\mathbb{E} [y]+\\beta\\,\\left(x-\\mathbb{E} [x]\\right)\\nonumber\\\\\n\\mbox{Var}[y|x]&=&\\mbox{Var}[y]-\\beta^2\\,\\mbox{Var}[x].\n\\end{eqnarray*}"
    },
    {
     "cell_type": "markdown",
     "metadata": {
      "slideshow": {
       "slide_type": "slide"
      }
     },
     "source": "### Regression of $\\tilde S$ against $y$\n\n-   Recall that $\\tilde S \\sim N(\\mu,\\sigma^2)$ and\n    $y_u\\sim N(0,\\sigma_u^2)$.\n\n\n-   Also, $y_i=a+b\\,\\tilde S$ must be normal.\n\n\n-   To compute $\\mathbb{E} [\\tilde S|y]$, we regress $\\tilde S$ against\n    $y$ using [(7)](#eq:regression):\n    \n    <font color=\"red\">\n    <a name=\"eq:normalProjection\"></a>(8)\n    $$\\mathbb{E} [\\tilde S|y]=\\mathbb{E} [\\tilde S]+\\frac{\\mbox{Cov}[\\tilde S,y]}{\\mbox{Var}[y]}\\left(y-\\mathbb{E} [y]\\right)$$\n    </font>\n\n\n-   The variance and covariance are given by\n    $$\\mbox{Var}[y]=\\sigma_u^2+b^2\\,\\sigma^2 \\text{ and } \\mbox{Cov}[\\tilde S,y]=b\\,\\sigma^2.$$"
    },
    {
     "cell_type": "markdown",
     "metadata": {
      "slideshow": {
       "slide_type": "slide"
      }
     },
     "source": "### Computation of equilibrium\n\nSubstituting back into [(8)](#eq:normalProjection) gives\n\n<a name=\"eq:eq1\"></a>(9)\n$$\\mathbb{E} [\\tilde S|y]=\\mu+\\frac{b\\,\\sigma^2}{\\sigma_u^2+b^2\\,\\sigma^2}\\,\\left(y-a-b\\,\\mu\\right)$$\n\nAlso\n\n<a name=\"eq:eq2\"></a>(10)\n$$p(y)=\\mu+\\lambda\\,y=\\mathbb{E} [\\tilde S|y]$$\n\nEquating [(9)](#eq:eq1) and [(10)](#eq:eq2) and solving for all $y$ gives\n\n$$\\lambda = \\frac{b\\,\\sigma^2}{\\sigma_u^2+b^2\\,\\sigma^2}.$$ \n\nAlso, recall\nthat $\\mathcal{M} $\u2019s conjecture [(6)](#eq:mConjecture) about $\\mathcal{I} $\u2019s demand gives\n\n$$b=\\frac{1}{2\\,\\lambda}$$"
    },
    {
     "cell_type": "markdown",
     "metadata": {
      "slideshow": {
       "slide_type": "slide"
      }
     },
     "source": "### Final result and intuition\n\nEquating these last two and solving for $b$ and $\\lambda$ gives\n\n#### <font color=\"red\">Optimal choice of $\\lambda$\n\n<font color=\"red\">$$b = \\frac{\\sigma_u}{\\sigma} \\text{ and } \\lambda=\\frac{1}{2}\\,\\frac{\\sigma}{\\sigma_u}$$</font>\n\n\nIntuition is as follows:\n\n-   The greater the demand of uninformed traders (as proxied by\n    $\\sigma_u$), the smaller the proportion of informed trading on\n    average and the less the adverse selection faced by $\\mathcal{M} $.\n\n"
    },
    {
     "cell_type": "markdown",
     "metadata": {
      "slideshow": {
       "slide_type": "slide"
      }
     },
     "source": "### Informed trader\u2019s profit\n\nThe informed trader\u2019s expected profit is\n\n$$\\mathbb{E} [y_i\\,(\\tilde S-p)|\\tilde S]=\\frac{(\\tilde S-\\mu)^2}{4\\,\\lambda}=\\frac{(\\tilde S-\\mu)^2}{2}\\,\\frac{\\sigma_u}{\\sigma}$$\n\nProfit is increasing in $\\sigma_u$:\n\n-   The more liquidity trading there is, the more $\\mathcal{I} $ can\n    hide his intentions.\n\n    -   Note that $\\sigma_u$ is the typical magnitude of $y_u$\n        ($\\mathbb{E} [|y_u|]=\\sqrt{\\frac 2 \\pi}\\,\\sigma_u$).\n\n\n-   The more liquid the stock, the easier it is to trade!\n\nThe unconditional expected of the informed trader\u2019s profit is\n\n$$\\mathbb{E} [y_i\\,(\\tilde S-p)]=\\frac{\\mathbb{E}\\left[{(\\tilde S-\\mu)^2}\\right]}{2}\\,\\frac{\\sigma_u}{\\sigma}=\\frac 12 \\sigma\\,\\sigma_u.$$\n\n"
    },
    {
     "cell_type": "markdown",
     "metadata": {
      "slideshow": {
       "slide_type": "slide"
      }
     },
     "source": "### The market makers\u2019 posterior distribution\n\n-   $\\mathcal{M} $\u2019s posterior distribution is $\\tilde S|y$.\n\n\n-   If for example there was big demand from liquidity traders, the mean\n    $p=\\mathbb{E} [\\tilde S|y]$ may be further away from the true value\n    $\\tilde S$ than the mean $\\mu$ of the prior.\n\n\n-   The variance of the posterior distribution is of course much smaller\n    than the variance of the prior.\n\n\n-   We now compute the mean and variance of the posterior distribution.\n\n"
    },
    {
     "cell_type": "markdown",
     "metadata": {
      "slideshow": {
       "slide_type": "slide"
      }
     },
     "source": "### Net order flow $y$ as a signal for $\\tilde S$\n\nThe order flow $y$ is a signal for $\\tilde S$. However, given\n$\\tilde S$, \n\n$$y=\\frac{\\tilde S-\\mu}{2\\,\\lambda}+y_u$$ \n\ndoes not have mean\n$\\tilde S$. To be able to apply the Kalman filter [(2)](#eq:normalFilter), we need a\ntransformed signal $z$ such that $\\mathbb{E} [z|\\tilde S]=\\tilde S$.\n\nThen define \n\n$$z=2\\,\\lambda\\,y+\\mu=\\tilde S+2\\,\\lambda\\,y_u$$ \n\nin which case \n\n$$\\mathbb{E} [z| \\tilde S]=\\tilde S$$\n\nand\n\n$$\\mbox{Var}[z|\\tilde S]=(2\\,\\lambda)^2\\,\\sigma_u^2=\\sigma^2.$$\n\n"
    },
    {
     "cell_type": "markdown",
     "metadata": {
      "slideshow": {
       "slide_type": "slide"
      }
     },
     "source": "### Proportion of information revealed\n\nApplying [(2)](#eq:normalFilter) gives the posterior distribution\n\n$$\\tilde S| z \\sim N(\\beta\\,z+(1-\\beta)\\,\\mu,(1-\\beta)\\,\\sigma^2)$$ \n\nwith\n\n$$\\beta=\\frac{\\tau_z}{\\tau+\\tau_z}=\\frac{1}{2}.$$\n\n\n-   No matter what the trade outcome is, the posterior variance is\n    exactly half of the prior variance.\n\n-   Since $\\sigma$ proxies the information that $\\mathcal{I} $ holds\n    (inside information), we can say following Kyle that\n    $\\mathcal{I} $\u2019s optimal strategy will result in half\n    of his information being revealed by the market price.\n\n-   Note that the mean of the posterior distribution is\n    $$\\mathbb{E} [\\tilde S|z]=\\frac{1}{2}\\,\\left(z+\\mu\\right)=\\mu+\\lambda\\,y=\\mathbb{E} [\\tilde S|y]$$\n    which is $\\mathcal{M} $\u2019s pricing rule.\n\n"
    },
    {
     "cell_type": "markdown",
     "metadata": {
      "slideshow": {
       "slide_type": "slide"
      }
     },
     "source": "### Extension to noisy signal\n\n-   In this extension of the model, $\\mathcal{I} $ receives imperfect\n    (as opposed to perfect) information at $t=0$.\n\n\n-   The signal $x=\\tilde S+\\epsilon$ where\n    $\\epsilon \\sim N(0,\\sigma_\\epsilon^2)$ is independent of everything\n    else.\n\n\n-   In this case, we can show (see HW5 problem 1) that\n\n    <a name=\"eq:lamdaNoisy\"></a>(11)\n    $$\\lambda=\\frac{\\sigma}{2\\,\\sigma_u}\\,\\sqrt{\\phi}$$\n\n    with $$\\phi = \\frac{\\sigma^2}{\\sigma^2+\\sigma_\\epsilon^2}$$\n\n\n-   This clearly has the right limit as $\\sigma_\\epsilon \\to 0$.\n\n"
    },
    {
     "cell_type": "markdown",
     "metadata": {
      "slideshow": {
       "slide_type": "slide"
      }
     },
     "source": "### Extension to multiple informed traders\n\n-   The solution for $k$ traders can be shown to be:\n    $$\\lambda_k=\\frac{1}{k+1}\\,\\frac{\\sigma\\,\\sqrt{k}}{\\sigma_u};\\,b_k=\\frac{\\sigma_u}{\\sigma\\,\\sqrt{k}}$$\n\n\n-   The greater the number $k$ of informed traders, the lower the value\n    of information each holds and so the smaller the $b_k$ (recall that\n    $y_i=a+b\\,\\tilde S$).\n\n\n-   Competition between informed traders drives down the optimal\n    $\\lambda$, decreasing market impact and increasing liquidity.\n\n    -   This contrasts with the piggybacking case explored in HW5\n        Problem 3."
    },
    {
     "cell_type": "markdown",
     "metadata": {
      "slideshow": {
       "slide_type": "slide"
      }
     },
     "source": "### A call auction mechanism \n\n-   The $k$th market maker $\\mathcal{M} _k$ submits a schedule of prices\n    $y_k(p)$ at which he is willing to buy or sell stock as a function\n    of quantity.\n\n\n-   An auctioneer allocates the order flow $y$ to each $\\mathcal{M} _k$\n    according to his schedule so as to clear the market. Explicitly, the\n    clearing price $p^\\star$ is given by\n    $$\\sum_k^K\\, y_k(p^\\star) = y.$$\n\n\n-   With these market rules, there is imperfect competition.\n\n    -   $\\mathcal{M} _k$ must taken into account the strategic behavior\n        of the other market markers when setting a price schedule.\n\n    -   $p^\\star$ thus depends in particular on the number $K$ of\n        competing market makers.\n\n"
    },
    {
     "cell_type": "markdown",
     "metadata": {
      "slideshow": {
       "slide_type": "slide"
      }
     },
     "source": "### Rational expectations equilibrium\n\n-   Assume an equilibrium price mapping of the form\n\n    $$p = \\mu + \\lambda\\,y.$$\n\n\n-   Further, assume $\\mathcal{M} _k$ has a linear pricing schedule of\n    the form\n    \n    $$y_k(p) = \\phi\\,(p-\\mu).$$\n    \n    Symmetry imposes that all of\n    the other $K-1$ market makers should have the same schedule.\n\n\n-   From the point of view of $\\mathcal{M} _k$, market clearing imposes\n    that $\n    y = y_k + (K-1)\\,\\phi\\,(p-\\mu)\n    $ so \n    \n    $$p(y_k) = \\mu + \\frac{y-y_k}{(K-1)\\,\\phi}.$$"
    },
    {
     "cell_type": "markdown",
     "metadata": {
      "slideshow": {
       "slide_type": "slide"
      }
     },
     "source": "-   Also note that\n    $$\\sum_k^K y_k(p) = K \\,\\phi\\,(p-\\mu) = K\\,\\phi\\,\\lambda\\,y = y$$ so\n\n    <a name=\"eq:MC\"></a>(12)\n    $$K\\,\\phi\\,\\lambda = 1.$$\n\n\n-   Each market maker maximizes profit (nonzero P&L in this market).\n\n\n-   $\\mathcal{M} _k$ can deduce the total order flow $y$ from the market\n    price $p(y_k)$.\n\n\n-   The P&L of the $k$th market maker is given by\n\n    \\begin{eqnarray*}\n    \\Pi(y_k)&=&y_k\\,\\left\\{ p(y_k) - \\mathbb{E} [\\tilde S| y]  \\right\\}\\\\\n    &=& y_k\\,\\left\\{ \\mu + \\frac{y-y_k}{(K-1)\\,\\phi} - \\mathbb{E} [\\tilde S| y]  \\right\\}.\\end{eqnarray*}"
    },
    {
     "cell_type": "markdown",
     "metadata": {
      "slideshow": {
       "slide_type": "slide"
      }
     },
     "source": "-   As before, the optimal informed flow is given by $\n    y_i =(\\tilde S - \\mu)/( 2\\,\\lambda)\n    $ and normal regression gives $\n     \\mathbb{E} [\\tilde S| y] = \\mu + \\alpha\\,y\n    $ with\n    \n    $$\\alpha = \\frac{b\\,\\sigma_u^2}{b^2\\,\\sigma^2+\\sigma_u^2}$$\n    \n    where $b = 1/(2\\,\\lambda)$.\n\n-   $$\\Pi(y_k)=y_k\\,\\left\\{  \\frac{y-y_k}{(K-1)\\,\\phi} - \\alpha\\,y  \\right\\}.$$\n\n    is maximized when $\\Pi'(y_k) = 0$ which gives\n    \n    $$\\left\\{  \\frac{y-y_k}{(K-1)\\,\\phi} - \\alpha\\,y  \\right\\} -\\frac{y_k}{(K-1)\\,\\phi}=0$$\n    \n    or, recalling that $y_k = y/K$,\n\n    <a name=\"eq:schedk\"></a>(13)\n    $$\\phi= \\frac{1}{\\alpha}\\,\\frac{K-2}{K\\,(K-1)}.$$"
    },
    {
     "cell_type": "markdown",
     "metadata": {
      "slideshow": {
       "slide_type": "slide"
      }
     },
     "source": "### The cost of imperfect competition\n\n-   From [(13)](#eq:schedk), we see that with this market mechanism and with $K$ market\n    makers, $\\mathcal{M} _k$ post less quantity than that in the case of\n    perfect competition, by a factor\n    \n    $$\\frac{K-2}{K-1}.$$\n\n\n-   From [(12)](#eq:MC),\n    \n    $$\\lambda =  \\frac1{K\\,\\phi} = \\alpha\\,\\frac{K-1}{K-2} = \\alpha +\\frac{\\alpha}{K-2}$$\n    \n    so relative to the perfect competition case, the Kyle lambda\n    increases by the factor $(K-1)/(K-2)$.\n\n\n-   As $K \\to \\infty$, we retrieve the perfect competition case where\n    $\\alpha = \\lambda$.\n\n-   We also see that the cost of trading depends on market structure.\n\n    -   Different auction mechanisms lead to different market maker\n        rents.\n\n"
    },
    {
     "cell_type": "markdown",
     "metadata": {
      "slideshow": {
       "slide_type": "slide"
      }
     },
     "source": "### Extension to multiple trading periods\n\nSuppose there are $N$ auctions at intervals $\\Delta t=1/N$ and indexed\nby $t \\in \\{1,...,N\\}$.\n\nThe equilibrium has the following properties:\n\n-   $\\mathcal{I} $\u2019s demand is\n    $\\Delta y_i(t)=b(t)\\,(\\tilde S- p(t-1))\\,\\Delta t$ where $b(t)$ is\n    trading intensity at time $t$.\n\n-   The price change at the $t$th auction is given by\n\n    $$\\Delta p(t)=\\lambda(t)\\,(\\Delta y_i(t)+\\Delta y_u(t))$$\n\n-   Market efficiency gives\n\n    $$p(t)=\\mathbb{E} [\\tilde S|y(t)]$$\n    \n    where\n    $y(t)$ is cumulative order flow up to time $t$.\n\n"
    },
    {
     "cell_type": "markdown",
     "metadata": {
      "slideshow": {
       "slide_type": "slide"
      }
     },
     "source": "### Properties of the solution\n\n-   $\\mathcal{I} $ slices and dices his order flow, just like real\n    traders splitting orders.\n\n\n-   $\\mathcal{I} $\u2019s optimal trade sizes change over time with the\n    random uninformed demand $y_u$.\n\n    -   $\\mathcal{I} $ hides behind the uninformed order flow in such a\n        way that $\\mathcal{M} $ cannot predict on the basis of net order\n        flow what $\\mathcal{I} $ will do next.\n\n    -   There is no autocorrelation in the total order flow $y$. If\n        there were, it would induce autocorrelation in prices and that\n        is ruled out by market efficiency.\n\n\n-   In the limit $N \\to \\infty$, the volatility of the price process\n    tends to a constant.\n\n"
    },
    {
     "cell_type": "markdown",
     "metadata": {
      "slideshow": {
       "slide_type": "slide"
      }
     },
     "source": "### More properties of the solution\n\n-   As time progresses, information is progressively revealed.\n\n-   The Kyle model shows how information can be incorporated into\n    prices.\n\n-   In the Kyle model, the process of price formation is explicit.\n\n-   In the perfect competition version, market makers get zero profits,\n    informed traders make profits and liquidity traders face transaction\n    costs.\n\n"
    },
    {
     "cell_type": "markdown",
     "metadata": {
      "slideshow": {
       "slide_type": "slide"
      }
     },
     "source": "### Price manipulation\n\n-   One might wonder whether traders could manipulate the market price.\n\n    -   A potential strategy would be to submit a large buy order,\n        driving the price up then selling back slowly at newer higher\n        prices.\n\n\n-   [Huberman and Stanzl]<sup id=\"cite_ref-HubermanStanzl\" class=\"reference\"><a href=\"#cite_note-HubermanStanzl\"><span>[</span>4<span>]</span></a></sup>\n     showed manipulation is not possible with the linear\n    market impact function in the Kyle model and in fact that\n    <span>*only*</span> linear models of this type have this property.\n\n\n-   We will revisit price manipulation later in this lecture series.\n\n"
    },
    {
     "cell_type": "markdown",
     "metadata": {
      "slideshow": {
       "slide_type": "slide"
      }
     },
     "source": "### Correlation of order flow\n\n-   In real markets, order flow is in fact highly autocorrelated.\n\n\n-   However, to a very accurate approximation, price changes are\n    unpredictable.\n\n\n-   In subsequent lectures we will try to understand how this can be so.\n\n"
    },
    {
     "cell_type": "markdown",
     "metadata": {
      "slideshow": {
       "slide_type": "slide"
      }
     },
     "source": "### The econophysics critique of Kyle\n\nAmongst other things, [Bouchaud, Farmer, Lillo]<sup id=\"cite_ref-BouchaudFarmerLillo\" class=\"reference\"><a href=\"#cite_note-BouchaudFarmerLillo\"><span>[</span>1<span>]</span></a></sup> complain that:\n\n> The rational investors, in contrast, are assumed to correspond to\n> skilled professionals. Their trading is perfect, in the sense that\n> they know everything. Examples of what they must know includes the\n> strategies of all the noise traders, and the fraction of capital\n> traded by noise traders as opposed to rational investors. In such\n> models prices can deviate from fundamental values due to the action of\n> the noise traders and the desire of the rational agents to exploit\n> them as much as possible, but the rational agents always keep them\n> from deviating too much.\n\nThe next plot suggests that perhaps all an agent needs to do to be\nconsidered as acting rationally, is to perform linear regression.\n\n"
    },
    {
     "cell_type": "markdown",
     "metadata": {
      "slideshow": {
       "slide_type": "slide"
      }
     },
     "source": "### The single-period Kyle equilibrium from Bayesian learning\n\n<h2><img src=\"http://mfe.baruch.cuny.edu/wp-content/uploads/2015/03/KyleConvergence.png\" align = \"center\" width=600></h2>  "
    },
    {
     "cell_type": "markdown",
     "metadata": {
      "slideshow": {
       "slide_type": "slide"
      }
     },
     "source": "### Simulation pseudo code\n\n-   $\\mathcal{M} $ assumes some prior $\\lambda$ with some (low)\n    precision\n\n\n-   $\\mathcal{I} $ determines his optimal demand $y_i$.\n\n\n-   The true value $\\tilde S$ is revealed.\n\n\n-   $\\mathcal{M} $ regresses $\\tilde S$ against $y$ to get a new\n    observation of $\\lambda$ and computes its precision.\n\n\n-   This new observation is combined with the prior to generate a new\n    posterior estimate of $\\lambda$.\n\n"
    },
    {
     "cell_type": "markdown",
     "metadata": {
      "slideshow": {
       "slide_type": "slide"
      }
     },
     "source": "### Convergence to equilibrium\n\n-   The question then arises as to whether this always works: If agents\n    just perform linear regressions, does the system converge?\n\n\n-   The answer according to [Marcet and Sargent]<sup id=\"cite_ref-MarcetSargent\" class=\"reference\"><a href=\"#cite_note-MarcetSargent\"><span>[</span>5<span>]</span></a></sup> is that there is a rational\n    expectations equilibrium under certain conditions.\n\n\n-   <span>*Rational expectations*</span> should then be understood in\n    this sense: that agents updating their beliefs by regressing the\n    results of their actions (reactions) against price changes may\n    (sometimes) cause equilibrium to emerge.\n\n    -   In that case, the system behaves as if the agents are rational;\n        capable of computing the rational reaction of other agents to\n        their rational actions.\n\n\n-   In this light, the above critique of the econophysicists appears\n    na\u00efve.\n\n"
    },
    {
     "cell_type": "markdown",
     "metadata": {
      "slideshow": {
       "slide_type": "slide"
      }
     },
     "source": "### Inventory models vs asymmetric information models\n\n-   Studies of market makers inventory suggest that the effect of\n    inventory on price is negligible.\n\n\n-   This has led market microstructure theorists to reject inventory\n    models in favor of asymmetric information models.\n\n\n-   However, this seems to be an overly restrictive view of\n    inventory models.\n\n    -   Some portion of the activity of most market participants could\n        be classed as market-making. For example, the simple choice to\n        send a limit order rather than a market order.\n\n    -   Ultimately, there is almost always a market maker who will\n        accept new inventory in return for spread.\n\n\n-   Taking this view, cumulative order flow is inventory and everyone is\n    a market maker.\n\n"
    },
    {
     "cell_type": "markdown",
     "metadata": {
      "slideshow": {
       "slide_type": "slide"
      }
     },
     "source": "### Final remarks\n\n-   In economics, the r\u00f4le of prices is not just to allocate resources\n    efficiently but also to transmit information about the values of\n    assets.\n\n\n-   The Kyle model exhibits a mechanism through which information may be\n    impounded into market prices.\n\n    -   Note however that the market price can depart very substantially\n        from fair value if there is large uninformed demand.\n\n    -   If fair value is itself evolving dynamically, the market price\n        may never correspond to fair value!\n\n\nWe finish with a quote from Hasbrouck (page 53):\n\n> ..., orders do not \u201cimpact\u201d prices. It is more accurate to say that\n> they forecast prices. The distinction is important but empirical\n> resolution is difficult.\n\nWhat do we believe?\n\n"
    },
    {
     "cell_type": "markdown",
     "metadata": {
      "slideshow": {
       "slide_type": "slide"
      }
     },
     "source": "### References\n<br />\n\n<div class=\"reflist\" style=\"list-style-type: decimal;\">\n\n<ol>\n\n  <li id=\"cite_note-BouchaudFarmerLillo\"><span class=\"mw-cite-backlink\"><b><a href=\"#cite_ref-BouchaudFarmerLillo\">^</a></b></span>Jean-Philippe Bouchaud, J. Doyne Farmer, and Fabrizio Lillo, How Markets\nSlowly Digest Changes in Supply and Demand, in <span>*Handbook of\nFinancial Markets: Dynamics and Evolution*</span> 57-156. (2009)\navailable at\nhttp://tuvalu.santafe.edu/%7Ejdf/papers/MarketsSlowlyDigest.pdf: Section\n3.\n  </li>\n\n  <li id=\"cite_note-FPR\"><span class=\"mw-cite-backlink\"><b><a href=\"#cite_ref-FPR\">^</a></b></span>Thierry Foucault, Marco Pagano and Ailsa R\u00f6ell, <span>*Market\nLiquidity*</span>, Oxford University Press, Chapter 4. (2013).\n  </li>\n  \n  <li id=\"cite_note-Hasbrouck\"><span class=\"mw-cite-backlink\"><b><a href=\"#cite_ref-Hasbrouck\">^</a></b></span>Joel Hasbrouck, <span>*Empirical Market Microstructure*</span>, Oxford\nUniversity Press, Chapter 7 (2007).\n  </li>\n  \n  <li id=\"cite_note-HubermanStanzl\"><span class=\"mw-cite-backlink\"><b><a href=\"#cite_ref-HubermanStanzl\">^</a></b></span>Gur Huberman and Werner Stanzl, Price manipulation and quasi-Arbitrage,\n<span>*Econometrica*</span> <span>**72**</span>(4) 1247\u20131275 (2004).\n  </li>\n  \n  <li id=\"cite_note-MarcetSargent\"><span class=\"mw-cite-backlink\"><b><a href=\"#cite_ref-MarcetSargent\">^</a></b></span>Albert Marcet and Thomas J. Sargent, Convergence of least squares\nlearning mechanisms in self-referential linear stochastic models,\n<span>*Journal of Economic Theory*</span> <span>**48**</span>(2) 337\u2013368\n(1989).\n  </li>\n  \n</ol>"
    }
   ],
   "metadata": {}
  }
 ]
}