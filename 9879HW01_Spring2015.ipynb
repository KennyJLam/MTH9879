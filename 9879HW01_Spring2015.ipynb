{
 "metadata": {
  "name": "9879HW01_Spring2015",
  "signature": "sha256:fb96ba35c93c56c907c916e3e4b83e13ff9f0af07e5c0a05a3f28e312fc92ba1"
 },
 "nbformat": 3,
 "nbformat_minor": 0,
 "worksheets": [
  {
   "cells": [
    {
     "cell_type": "markdown",
     "metadata": {},
     "source": "# MTH9879 Homework 1\n\nAssigned: February 3, 2015.\nDue: February 17, 2015 by 6pm. \n\nLate homework **will not be accepted**.\n\n$$\n\\newcommand{\\supp}{\\mathrm{supp}}\n\\newcommand{\\E}{\\mathbb{E} }\n\\def\\Cov{{ \\mbox{Cov} }}\n\\def\\Var{{ \\mbox{Var} }}\n\\newcommand{\\1}{\\mathbf{1} }\n\\newcommand{\\PP}{\\mathbb{P} }\n%\\newcommand{\\Pr}{\\mathrm{Pr} }\n\\newcommand{\\QQ}{\\mathbb{Q} }\n\\newcommand{\\RR}{\\mathbb{R} }\n\\newcommand{\\DD}{\\mathbb{D} }\n\\newcommand{\\HH}{\\mathbb{H} }\n\\newcommand{\\spn}{\\mathrm{span} }\n\\newcommand{\\cov}{\\mathrm{cov} }\n\\newcommand{\\sgn}{\\mathrm{sgn} }\n\\newcommand{\\HS}{\\mathcal{L}_{\\mathrm{HS}} }\n%\\newcommand{\\HS}{\\mathrm{HS} }\n\\newcommand{\\trace}{\\mathrm{trace} }\n\\newcommand{\\LL}{\\mathcal{L} }\n%\\newcommand{\\LL}{\\mathrm{L} }\n\\newcommand{\\s}{\\mathcal{S} }\n\\newcommand{\\ee}{\\mathcal{E} }\n\\newcommand{\\ff}{\\mathcal{F} }\n\\newcommand{\\hh}{\\mathcal{H} }\n\\newcommand{\\bb}{\\mathcal{B} }\n\\newcommand{\\dd}{\\mathcal{D} }\n\\newcommand{\\g}{\\mathcal{G} }\n\\newcommand{\\p}{\\partial}\n\\newcommand{\\half}{\\frac{1}{2} }\n\\newcommand{\\T}{\\mathcal{T} }\n\\newcommand{\\bi}{\\begin{itemize}}\n\\newcommand{\\ei}{\\end{itemize}}\n\\newcommand{\\beq}{\\begin{equation}}\n\\newcommand{\\eeq}{\\end{equation}}\n\\newcommand{\\beas}{\\begin{eqnarray*}}\n\\newcommand{\\eeas}{\\end{eqnarray*}}\n\\newcommand{\\cO}{\\mathcal{O}}\n\\newcommand{\\cF}{\\mathcal{F}}\n\\newcommand{\\cL}{\\mathcal{L}}\n\\newcommand{\\BS}{\\text{BS}}\n$$"
    },
    {
     "cell_type": "markdown",
     "metadata": {},
     "source": "<font color = \"red\">Homework is to be done by each student individually.  To receive full credit, you must email a completed copy of this iPython notebook to Yu Gan (yugan323@gmail.com), Fubo Shi (fubo.shi.baruch@gmail.com), and Tai-Ho Wang (tai-ho.wang@baruch.cuny.edu) by the due date and time.  All R-code must run correctly and solutions must be written up neatly in Markdown/LaTeX format.\n\n<font color=\"blue\">If you encounter problems with Markdown/LaTeX or iPython notebook, please contact your TAs Yu Gan and/or Fubo Shi.\n"
    },
    {
     "cell_type": "markdown",
     "metadata": {},
     "source": "### 1. (4 points) \n\nRead Chapter 1 of Market Liquidity by Foucault, Pagano and R&ouml;ell.\nWhat algorithmic trading strategy was being used by the seller who triggered the Flash\nCrash of May 6, 2010? Why did it cause a crash? How could this algorithm have been\namended so as to avoid the ensuing disaster?"
    },
    {
     "cell_type": "markdown",
     "metadata": {},
     "source": "## The Smith Farmer zero-intelligence model"
    },
    {
     "cell_type": "markdown",
     "metadata": {},
     "source": "### Set up R-environment\n\nThe following code sources *ziSetup.R* which has all the functions required for the problem."
    },
    {
     "cell_type": "code",
     "collapsed": false,
     "input": "%load_ext rpy2.ipython",
     "language": "python",
     "metadata": {},
     "outputs": [],
     "prompt_number": 1
    },
    {
     "cell_type": "code",
     "collapsed": false,
     "input": "%%R\ndownload.file(url=\"http://mfe.baruch.cuny.edu/wp-content/uploads/2015/01/ziSetup.zip\", destfile=\"ziSetup.zip\")\nunzip(zipfile=\"ziSetup.zip\")",
     "language": "python",
     "metadata": {},
     "outputs": [],
     "prompt_number": 2
    },
    {
     "cell_type": "code",
     "collapsed": false,
     "input": "%%R\nsource(\"ziSetup.R\")",
     "language": "python",
     "metadata": {},
     "outputs": []
    },
    {
     "cell_type": "markdown",
     "metadata": {},
     "source": "### 2. (4 points)\n\nUsing the provided functions in *ziSetup.R* (with $\\alpha = 1$, $\\mu = 10$, $\\delta = 1/5$),\ninitialize the order book and add two orders to the (best) bid side of the book. The resulting\nbook should have 3 orders at best bid and 1 order at best offer. Plot the resulting book\nshape."
    },
    {
     "cell_type": "markdown",
     "metadata": {},
     "source": "### 3. (16 points)\n\n(a) Using the code supplied to generate Figure 2 as a template, simulate 100,000 events, computing the average book shape (in a band $\\pm 20$ around the mid price) for the\nfollowing sets of parameters:\n\n|$\\alpha$|$\\mu$|$\\delta$|\n-----|-----:|-------:|\nI| 1 | 10 | $\\frac15$\nII| 1 | 8 |  $\\frac15$\nIII| 1 |  10 | $\\frac16$\nIV| 1  | 10 | $\\frac18$ \n\n(Warning: This might take longer than 15 minutes to run!).\n\n(b) Generate a summary plot of the average book shapes for each parameter set (I, II, II, and IV).\n\n(c) Verify that the relationships between the slopes of the order books at-the-money for each parameter set are consistent with the predictions from dimensional analysis.\n\n(d) Verify that the asymptotic book depths are consistent with the predictions from dimensional analysis."
    },
    {
     "cell_type": "markdown",
     "metadata": {},
     "source": "### The following code sets up the data required for Problem 4."
    },
    {
     "cell_type": "code",
     "collapsed": false,
     "input": "%%R\ndownload.file(url=\"http://mfe.baruch.cuny.edu/wp-content/uploads/2015/01/ziSimResults.rData_.zip\", destfile=\"ziSimResults.rData.zip\")\nunzip(zipfile=\"ziSimResults.rData.zip\")\nload(\"ziSimResults.rData\")",
     "language": "python",
     "metadata": {},
     "outputs": [],
     "prompt_number": 12
    },
    {
     "cell_type": "markdown",
     "metadata": {},
     "source": "### 4. (12 points)\n\nThe datafile *ziSimResults.rData* contains a list of bid and ask prices after 100 events resulting from 10,000 simulations of the SFGK model with $\\alpha = 1$, $\\mu = 10$, and $\\delta = 1/5$. The $j$th element of the list has results for an initial book configuration with $q_b = j$ shares on the bid side and $q_a = 1$ share on the ask side."
    },
    {
     "cell_type": "code",
     "collapsed": false,
     "input": "%R head(data.frame(ziSimResults))",
     "language": "python",
     "metadata": {},
     "outputs": [
      {
       "html": "<div style=\"max-height:1000px;max-width:1500px;overflow:auto;\">\n<table border=\"1\" class=\"dataframe\">\n  <thead>\n    <tr style=\"text-align: right;\">\n      <th></th>\n      <th>bid</th>\n      <th>ask</th>\n      <th>bid.1</th>\n      <th>ask.1</th>\n      <th>bid.2</th>\n      <th>ask.2</th>\n      <th>bid.3</th>\n      <th>ask.3</th>\n      <th>bid.4</th>\n      <th>ask.4</th>\n      <th>bid.5</th>\n      <th>ask.5</th>\n      <th>bid.6</th>\n      <th>ask.6</th>\n      <th>bid.7</th>\n      <th>ask.7</th>\n      <th>bid.8</th>\n      <th>ask.8</th>\n      <th>bid.9</th>\n      <th>ask.9</th>\n    </tr>\n  </thead>\n  <tbody>\n    <tr>\n      <th>0</th>\n      <td>-1</td>\n      <td> 2</td>\n      <td>-2</td>\n      <td> 2</td>\n      <td>-2</td>\n      <td> 4</td>\n      <td>-1</td>\n      <td> 3</td>\n      <td>-1</td>\n      <td> 3</td>\n      <td>-1</td>\n      <td> 2</td>\n      <td>-1</td>\n      <td> 2</td>\n      <td> 0</td>\n      <td> 3</td>\n      <td>-1</td>\n      <td> 2</td>\n      <td>-1</td>\n      <td> 0</td>\n    </tr>\n    <tr>\n      <th>1</th>\n      <td>-1</td>\n      <td> 4</td>\n      <td>-3</td>\n      <td>-1</td>\n      <td>-2</td>\n      <td> 3</td>\n      <td> 1</td>\n      <td> 3</td>\n      <td>-2</td>\n      <td> 1</td>\n      <td>-1</td>\n      <td> 0</td>\n      <td>-1</td>\n      <td> 3</td>\n      <td> 0</td>\n      <td> 4</td>\n      <td>-1</td>\n      <td> 1</td>\n      <td> 1</td>\n      <td> 2</td>\n    </tr>\n    <tr>\n      <th>2</th>\n      <td>-2</td>\n      <td>-1</td>\n      <td>-1</td>\n      <td> 0</td>\n      <td>-1</td>\n      <td> 0</td>\n      <td>-1</td>\n      <td> 3</td>\n      <td>-2</td>\n      <td> 2</td>\n      <td>-1</td>\n      <td> 2</td>\n      <td> 2</td>\n      <td> 3</td>\n      <td>-1</td>\n      <td> 1</td>\n      <td>-1</td>\n      <td> 1</td>\n      <td>-1</td>\n      <td> 0</td>\n    </tr>\n    <tr>\n      <th>3</th>\n      <td> 0</td>\n      <td> 3</td>\n      <td>-2</td>\n      <td> 3</td>\n      <td>-2</td>\n      <td> 3</td>\n      <td>-2</td>\n      <td> 1</td>\n      <td> 0</td>\n      <td> 3</td>\n      <td>-1</td>\n      <td> 2</td>\n      <td>-1</td>\n      <td> 1</td>\n      <td>-1</td>\n      <td> 2</td>\n      <td>-1</td>\n      <td> 0</td>\n      <td>-1</td>\n      <td> 3</td>\n    </tr>\n    <tr>\n      <th>4</th>\n      <td>-2</td>\n      <td> 2</td>\n      <td> 0</td>\n      <td> 4</td>\n      <td> 0</td>\n      <td> 3</td>\n      <td> 3</td>\n      <td> 5</td>\n      <td>-2</td>\n      <td> 2</td>\n      <td> 0</td>\n      <td> 3</td>\n      <td>-1</td>\n      <td> 2</td>\n      <td>-1</td>\n      <td> 2</td>\n      <td>-1</td>\n      <td> 2</td>\n      <td> 1</td>\n      <td> 3</td>\n    </tr>\n    <tr>\n      <th>5</th>\n      <td>-2</td>\n      <td> 0</td>\n      <td>-4</td>\n      <td> 1</td>\n      <td>-1</td>\n      <td> 1</td>\n      <td>-3</td>\n      <td> 2</td>\n      <td>-1</td>\n      <td> 3</td>\n      <td> 1</td>\n      <td> 3</td>\n      <td>-1</td>\n      <td> 1</td>\n      <td> 1</td>\n      <td> 2</td>\n      <td> 3</td>\n      <td> 4</td>\n      <td> 2</td>\n      <td> 3</td>\n    </tr>\n  </tbody>\n</table>\n<p>6 rows \u00d7 20 columns</p>\n</div>",
       "metadata": {},
       "output_type": "pyout",
       "prompt_number": 19,
       "text": "   bid  ask  bid.1  ask.1  bid.2  ask.2  bid.3  ask.3  bid.4  ask.4  bid.5  \\\n0   -1    2     -2      2     -2      4     -1      3     -1      3     -1   \n1   -1    4     -3     -1     -2      3      1      3     -2      1     -1   \n2   -2   -1     -1      0     -1      0     -1      3     -2      2     -1   \n3    0    3     -2      3     -2      3     -2      1      0      3     -1   \n4   -2    2      0      4      0      3      3      5     -2      2      0   \n5   -2    0     -4      1     -1      1     -3      2     -1      3      1   \n\n   ask.5  bid.6  ask.6  bid.7  ask.7  bid.8  ask.8  bid.9  ask.9  \n0      2     -1      2      0      3     -1      2     -1      0  \n1      0     -1      3      0      4     -1      1      1      2  \n2      2      2      3     -1      1     -1      1     -1      0  \n3      2     -1      1     -1      2     -1      0     -1      3  \n4      3     -1      2     -1      2     -1      2      1      3  \n5      3     -1      1      1      2      3      4      2      3  \n\n[6 rows x 20 columns]"
      }
     ],
     "prompt_number": 19
    },
    {
     "cell_type": "markdown",
     "metadata": {},
     "source": "(a) For each size $q_b$ at best bid, compute the mean mid-price after 10,000 events and with error computed as standard deviation of the mean.\n\n(b) Plot mean mid-price vs size at best bid, reproducing Figure 3 of the lecture slides. \nRemember to include error bars!\n\n(c) Repeat part (b) with the order book imbalance $I$ on the x-axis, reproducing Figure 7 in the lecture slides.\n\n(d) If you see an order book with large quantity at the bid and small quantity at the offer, what does it tell you about the future price?"
    },
    {
     "cell_type": "markdown",
     "metadata": {},
     "source": "## Is the market price a martingale?"
    },
    {
     "cell_type": "markdown",
     "metadata": {},
     "source": "### 5. (4 points) \n\nA derivatives quant explains (patiently) to you that asset prices are martingales (informally speaking that expected price changes are zero). Do you agree? How is your understanding consistent with the derivative quant\u2019s understanding?"
    },
    {
     "cell_type": "code",
     "collapsed": false,
     "input": "",
     "language": "python",
     "metadata": {},
     "outputs": []
    }
   ],
   "metadata": {}
  }
 ]
}