{
 "metadata": {
  "name": "9879HW06_Spring2015",
  "signature": "sha256:fb96ba35c93c56c907c916e3e4b83e13ff9f0af07e5c0a05a3f28e312fc92ba1"
 },
 "nbformat": 3,
 "nbformat_minor": 0,
 "worksheets": [
  {
   "cells": [
    {
     "cell_type": "markdown",
     "metadata": {},
     "source": "# MTH9879 Homework 6\n\nAssigned: March 10, 2015.\nDue: March 24, 2015 by 6pm. \n\nLate homework **will not be accepted**.\n\n$$\n\\newcommand{\\supp}{\\mathrm{supp}}\n\\newcommand{\\E}{\\mathbb{E}}\n\\newcommand{\\Eof}[1]{\\mathbb{E}\\left[ #1 \\right]}\n\\def\\Cov{{ \\mbox{Cov} }}\n\\def\\Var{{ \\mbox{Var} }}\n\\newcommand{\\1}{\\mathbf{1} }\n\\newcommand{\\PP}{\\mathbb{P} }\n%\\newcommand{\\Pr}{\\mathrm{Pr} }\n\\newcommand{\\QQ}{\\mathbb{Q} }\n\\newcommand{\\RR}{\\mathbb{R} }\n\\newcommand{\\DD}{\\mathbb{D} }\n\\newcommand{\\HH}{\\mathbb{H} }\n\\newcommand{\\spn}{\\mathrm{span} }\n\\newcommand{\\cov}{\\mathrm{cov} }\n\\newcommand{\\sgn}{\\mathrm{sgn} }\n\\newcommand{\\HS}{\\mathcal{L}_{\\mathrm{HS}} }\n%\\newcommand{\\HS}{\\mathrm{HS} }\n\\newcommand{\\trace}{\\mathrm{trace} }\n\\newcommand{\\LL}{\\mathcal{L} }\n%\\newcommand{\\LL}{\\mathrm{L} }\n\\newcommand{\\s}{\\mathcal{S} }\n\\newcommand{\\ee}{\\mathcal{E} }\n\\newcommand{\\ff}{\\mathcal{F} }\n\\newcommand{\\hh}{\\mathcal{H} }\n\\newcommand{\\bb}{\\mathcal{B} }\n\\newcommand{\\dd}{\\mathcal{D} }\n\\newcommand{\\g}{\\mathcal{G} }\n\\newcommand{\\p}{\\partial}\n\\newcommand{\\half}{\\frac{1}{2} }\n\\newcommand{\\T}{\\mathcal{T} }\n\\newcommand{\\bi}{\\begin{itemize}}\n\\newcommand{\\ei}{\\end{itemize}}\n\\newcommand{\\beq}{\\begin{equation}}\n\\newcommand{\\eeq}{\\end{equation}}\n\\newcommand{\\beas}{\\begin{eqnarray*}}\n\\newcommand{\\eeas}{\\end{eqnarray*}}\n\\newcommand{\\cO}{\\mathcal{O}}\n\\newcommand{\\cF}{\\mathcal{F}}\n\\newcommand{\\cL}{\\mathcal{L}}\n\\newcommand{\\BS}{\\text{BS}}\n$$"
    },
    {
     "cell_type": "markdown",
     "metadata": {},
     "source": "<font color = \"red\">Homework is to be done by each student individually.  To receive full credit, you must email a completed copy of this iPython notebook to Yu Gan (yugan323@gmail.com), Fubo Shi (fubo.shi.baruch@gmail.com), and Tai-Ho Wang (tai-ho.wang@baruch.cuny.edu) by the due date and time.  All R-code must run correctly and solutions must be written up neatly in Markdown/LaTeX format.\n\n<font color=\"blue\">If you encounter problems with Markdown/LaTeX or iPython notebook, please contact your TAs Yu Gan and/or Fubo Shi.\n"
    },
    {
     "cell_type": "markdown",
     "metadata": {},
     "source": "### 0. (0 points) \nRead the review article by McAleer and Medeiros and also the nice article by Barndorff-Nielsen et al."
    },
    {
     "cell_type": "markdown",
     "metadata": {},
     "source": "## Comparison of estimators"
    },
    {
     "cell_type": "markdown",
     "metadata": {},
     "source": "### Set up R environment."
    },
    {
     "cell_type": "code",
     "collapsed": false,
     "input": "%load_ext rpy2.ipython",
     "language": "python",
     "metadata": {},
     "outputs": [],
     "prompt_number": 1
    },
    {
     "cell_type": "code",
     "collapsed": false,
     "input": "%%R\ndownload.file(url=\"http://mfe.baruch.cuny.edu/wp-content/uploads/2015/02/tq.zip\", destfile=\"tq.zip\")\nunzip(zipfile=\"tq.zip\")\ndownload.file(url=\"http://mfe.baruch.cuny.edu/wp-content/uploads/2015/03/RvEstimators.R.zip\", destfile=\"RvEstimators.R.zip\")\nunzip(zipfile=\"RvEstimators.R.zip\")",
     "language": "python",
     "metadata": {},
     "outputs": [],
     "prompt_number": 2
    },
    {
     "cell_type": "markdown",
     "metadata": {},
     "source": "### 1. (12 points) \nThis assignment uses the *tqBAC* dataset from *tq.rData* and the RV estimators from *RvEstimators.R*."
    },
    {
     "cell_type": "code",
     "collapsed": false,
     "input": "%%R \nload('tq.rData')\nlibrary(highfrequency)\nsource('RvEstimators.R')",
     "language": "python",
     "metadata": {},
     "outputs": [],
     "prompt_number": 3
    },
    {
     "cell_type": "markdown",
     "metadata": {},
     "source": "(a) Consider the BAC trade price series.  Superimpose signature plots of the following estimators with subsampling frequency $q$ from 1 to 20: ZHOU, TSRV, MSRV, KRVTH, KRVC.  Express your results as $\\sqrt{RV}$ to make them more intuitive, as in Table 1 of Lecture 6 (recall that volatility estimates should be of the order of $2\\%$!).\n<br>\nPay attention to good aesthetics, addling a proper legend to your plot.\n\n(b) Repeat part (a) for the BAC mid-quote series.\n\n(c) Which of these estimators do you recommend and why?  What sub-sampling frequency do you recommend based on these pictures?"
    },
    {
     "cell_type": "markdown",
     "metadata": {},
     "source": "## The Epps effect"
    },
    {
     "cell_type": "markdown",
     "metadata": {},
     "source": "### 2. (14 points) \nFor this assignment, use the *tqBAC* and  *tqC* datasets from *tq.rData*, the function *getSymbols* from the *quantmod* package, and the function *aggregatets* from the * highfrequency* package."
    },
    {
     "cell_type": "code",
     "collapsed": false,
     "input": "%%R\nload('tq.rData')\nlibrary(highfrequency)\nlibrary(quantmod)",
     "language": "python",
     "metadata": {},
     "outputs": [],
     "prompt_number": 4
    },
    {
     "cell_type": "markdown",
     "metadata": {},
     "source": "(a) Write a function to aggregate a *tq* object (such as *tqBAC*) to the nearest $k$ seconds. <br>\n(Hint: Use the function *aggregatets(.)*).\n\n(b) Write a function to compute the correlation between two high-frequency log return series (in *tq* format) where the underlying prices have been aggregated to the nearest $k$ seconds.\n\n(c) Plot the correlation between BAC and C returns where these returns are sampled every $k$ seconds, with $ k  \\in \\{2,3,4,. .., 599,600\\} $.  Use a kernel smoothing function such as *ksmooth* to smooth your results.  Make sure the aesthetics are good with nice labels etc.\n\n(d)  Is your plot consistent with the Epps effect?  What was the intraday correlation between BAC and C returns on 04-May-2012?\n\n(e) Use the function *getSymbols* from *quantmod* to download daily data for BAC and C from 01-Jan-2012 to 31-Dec-2012.  What was the historical correlation of daily BAC and C returns over that period?"
    },
    {
     "cell_type": "markdown",
     "metadata": {},
     "source": "## The Hayashi-Yoshida estimator"
    },
    {
     "cell_type": "markdown",
     "metadata": {},
     "source": "### 3. (2 points) \nShow that when two time series $p^{(1)}$ and $p^{(2)}$ are synchronous, the Hayashi-Yoshida estimator coincides with the realized covariance estimator."
    },
    {
     "cell_type": "markdown",
     "metadata": {},
     "source": "## Fulvio Corsi's HAR-RV model"
    },
    {
     "cell_type": "markdown",
     "metadata": {},
     "source": "The following code loads the data of SPX realized volatility required for this problem. Data were downloaded from the Oxford-Man website"
    },
    {
     "cell_type": "code",
     "collapsed": false,
     "input": "%%R\ndownload.file(url=\"http://mfe.baruch.cuny.edu/wp-content/uploads/2015/03/spx_krv.rData_.zip\", destfile=\"spx_krv.zip\")\nunzip(zipfile=\"spx_krv.zip\")\nload(\"spx_krv.rData\")",
     "language": "python",
     "metadata": {},
     "outputs": [],
     "prompt_number": 9
    },
    {
     "cell_type": "code",
     "collapsed": false,
     "input": "%R data.frame(head(spx.krv))",
     "language": "python",
     "metadata": {},
     "outputs": [
      {
       "html": "<div style=\"max-height:1000px;max-width:1500px;overflow:auto;\">\n<table border=\"1\" class=\"dataframe\">\n  <thead>\n    <tr style=\"text-align: right;\">\n      <th></th>\n      <th>head.spx.krv.</th>\n    </tr>\n  </thead>\n  <tbody>\n    <tr>\n      <th>0</th>\n      <td> 0.000161</td>\n    </tr>\n    <tr>\n      <th>1</th>\n      <td> 0.000264</td>\n    </tr>\n    <tr>\n      <th>2</th>\n      <td> 0.000305</td>\n    </tr>\n    <tr>\n      <th>3</th>\n      <td> 0.000149</td>\n    </tr>\n    <tr>\n      <th>4</th>\n      <td> 0.000123</td>\n    </tr>\n    <tr>\n      <th>5</th>\n      <td> 0.000131</td>\n    </tr>\n  </tbody>\n</table>\n<p>6 rows \u00d7 1 columns</p>\n</div>",
       "metadata": {},
       "output_type": "pyout",
       "prompt_number": 10,
       "text": "   head.spx.krv.\n0       0.000161\n1       0.000264\n2       0.000305\n3       0.000149\n4       0.000123\n5       0.000131\n\n[6 rows x 1 columns]"
      }
     ],
     "prompt_number": 10
    },
    {
     "cell_type": "markdown",
     "metadata": {},
     "source": "### 4. (12 points)\n\n(a) Rerun the HAR-RV example code using the 2008 *DJI_RV* sample from the *highfrequency* package.\n\n(b) Repeat the analysis of part (a) with *spx.krv* restricted to 2008.\n\n(c) Tabulate the HAR-RV coefficients for the two 2008 datasets.  Are they similar or do they differ?  Is most weight on the 1-day, 5-day, or 22-day RV?\n\n(d) Using *quantmod* download daily VIX data.  Subset this data to 2008 and plot ${\\rm VIX}^2$.\n\n(e)  Plot SPX RV and superimpose DJI RV for 2008. Superimpose a plot of $\\text{VIX}^2$, adding a scale on the right hand axis (see how this is done in the lecture iPython notebook). Comment on the resulting plot.\n"
    },
    {
     "cell_type": "code",
     "collapsed": false,
     "input": "",
     "language": "python",
     "metadata": {},
     "outputs": []
    }
   ],
   "metadata": {}
  }
 ]
}