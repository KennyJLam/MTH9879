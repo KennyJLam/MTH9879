{
 "metadata": {
  "name": "9879HW08_Spring2015",
  "signature": "sha256:fb96ba35c93c56c907c916e3e4b83e13ff9f0af07e5c0a05a3f28e312fc92ba1"
 },
 "nbformat": 3,
 "nbformat_minor": 0,
 "worksheets": [
  {
   "cells": [
    {
     "cell_type": "markdown",
     "metadata": {},
     "source": "# MTH9879 Homework 8\n\nAssigned: April 14, 2015.\nDue: April 28, 2015 by 6pm. \n\nLate homework **will not be accepted**.\n\n$$\n\\newcommand{\\supp}{\\mathrm{supp}}\n\\newcommand{\\E}{\\mathbb{E}}\n\\newcommand{\\Eof}[1]{\\mathbb{E}\\left[ #1 \\right]}\n\\def\\Cov{{ \\mbox{Cov} }}\n\\def\\Var{{ \\mbox{Var} }}\n\\newcommand{\\1}{\\mathbf{1} }\n\\newcommand{\\PP}{\\mathbb{P} }\n%\\newcommand{\\Pr}{\\mathrm{Pr} }\n\\newcommand{\\QQ}{\\mathbb{Q} }\n\\newcommand{\\RR}{\\mathbb{R} }\n\\newcommand{\\DD}{\\mathbb{D} }\n\\newcommand{\\HH}{\\mathbb{H} }\n\\newcommand{\\spn}{\\mathrm{span} }\n\\newcommand{\\cov}{\\mathrm{cov} }\n\\newcommand{\\sgn}{\\mathrm{sgn} }\n\\newcommand{\\HS}{\\mathcal{L}_{\\mathrm{HS}} }\n%\\newcommand{\\HS}{\\mathrm{HS} }\n\\newcommand{\\trace}{\\mathrm{trace} }\n\\newcommand{\\LL}{\\mathcal{L} }\n%\\newcommand{\\LL}{\\mathrm{L} }\n\\newcommand{\\s}{\\mathcal{S} }\n\\newcommand{\\ee}{\\mathcal{E} }\n\\newcommand{\\ff}{\\mathcal{F} }\n\\newcommand{\\hh}{\\mathcal{H} }\n\\newcommand{\\bb}{\\mathcal{B} }\n\\newcommand{\\dd}{\\mathcal{D} }\n\\newcommand{\\g}{\\mathcal{G} }\n\\newcommand{\\p}{\\partial}\n\\newcommand{\\half}{\\frac{1}{2} }\n\\newcommand{\\T}{\\mathcal{T} }\n\\newcommand{\\bi}{\\begin{itemize}}\n\\newcommand{\\ei}{\\end{itemize}}\n\\newcommand{\\beq}{\\begin{equation}}\n\\newcommand{\\eeq}{\\end{equation}}\n\\newcommand{\\beas}{\\begin{eqnarray*}}\n\\newcommand{\\eeas}{\\end{eqnarray*}}\n\\newcommand{\\cO}{\\mathcal{O}}\n\\newcommand{\\cF}{\\mathcal{F}}\n\\newcommand{\\cL}{\\mathcal{L}}\n\\newcommand{\\BS}{\\text{BS}}\n$$"
    },
    {
     "cell_type": "markdown",
     "metadata": {},
     "source": "<font color = \"red\">Homework is to be done by each student individually.  To receive full credit, you must email a completed copy of this iPython notebook to Yu Gan (yugan323@gmail.com), Fubo Shi (fubo.shi.baruch@gmail.com), and Tai-Ho Wang (tai-ho.wang@baruch.cuny.edu) by the due date and time.  All R-code must run correctly and solutions must be written up neatly in Markdown/LaTeX format.\n\n<font color=\"blue\">If you encounter problems with Markdown/LaTeX or iPython notebook, please contact your TAs Yu Gan and/or Fubo Shi.\n"
    },
    {
     "cell_type": "markdown",
     "metadata": {},
     "source": "### 0. (0 points) \nRead Section 6.7 of Bouchaud, Farmer and Lillo."
    },
    {
     "cell_type": "markdown",
     "metadata": {},
     "source": "## Predictability of order flow"
    },
    {
     "cell_type": "markdown",
     "metadata": {},
     "source": "### 1. (6 points)\n\nSuppose that the distribution of meta order sizes $Q$ is exponential so that\n\n$$\n\\Pr(Q>V)= \\frac{1}{\\lambda}\\,e^{-\\lambda\\,V}\n$$\n\nAssuming slices of  constant size $\\bar v$, compute the conditional probability that a hidden order has more slices given that $n$ slices have already been observed.  Compare your result with the case where distribution of metaorder size is power-law."
    },
    {
     "cell_type": "markdown",
     "metadata": {},
     "source": "## Price manipulation"
    },
    {
     "cell_type": "markdown",
     "metadata": {},
     "source": "### 2. (10 points)\n\nConsider the price process\n\n$$\nS_t=S_0+\\int_0^t\\,f(\\dot{x}_s)\\,G(t-s)\\,ds+\\int_0^t\\,\\sigma\\,dZ_s\n$$\n\nwhere ${\\dot x}_s$ is the rate of trading in dollars at time $s < t$, $f(\\dot{x}_s)$ represents the impact of trading at time $s$ and $G(t-s)$ is a decay factor.\n\n(a) With the choices\n\n$$\nf(v)=\\sqrt{v},\\quad G(\\tau)=\\frac{1}{1+\\tau},\n$$\n    \nrepeat the computations in Lecture 8  to derive an expression for the expected cost of accumulating shares at the rate $v_1$ and liquidating them at the rate $v_2$.\n\n(b) Verify that with $T=1$, $v_1=1/4$, $v_2=1$, the expected cost of this round-trip strategy is negative, thus demonstrating that price manipulation is possible. (Recall from the lecture slides that price manipulation is always possible if $f(\\cdot)$ is nonlinear and the decay kernel $G(\\cdot)$  is finite at the origin.)\n\nHint: You might consider using Mathematica or Wolfram Alpha to do the integrations."
    },
    {
     "cell_type": "markdown",
     "metadata": {},
     "source": "### Set up R environment"
    },
    {
     "cell_type": "code",
     "collapsed": false,
     "input": "%load_ext rpy2.ipython",
     "language": "python",
     "metadata": {},
     "outputs": []
    },
    {
     "cell_type": "markdown",
     "metadata": {},
     "source": "## The Obizhaeva-Wang model"
    },
    {
     "cell_type": "markdown",
     "metadata": {},
     "source": "### 3. (8 points)\n\nIn the Obizhaeva-Wang (OW) model, the price follows\n\n$$\nS_t=S_0+\\eta\\,\\int_0^t\\,{\\dot x}_s\\,e^{-\\rho\\,(t-s)}\\,ds+\\int_0^t\\,\\sigma\\,dZ_s\n$$\n\n(a) Derive an expression for the expected price path corresponding to a VWAP execution.\n\n(b) With the duration $T$ of the meta order set to 1, plot the expected price path from time $t=0$ to time $t=2$ for $\\rho=0.5,1,$ and $2$.\n\n(c) What is the expected average cost per share $\\bar S_T$ of a VWAP order in the OW model?"
    }
   ],
   "metadata": {}
  }
 ]
}