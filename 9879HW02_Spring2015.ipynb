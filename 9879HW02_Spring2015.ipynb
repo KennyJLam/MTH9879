{
 "metadata": {
  "name": "9879HW02_Spring2015",
  "signature": "sha256:fb96ba35c93c56c907c916e3e4b83e13ff9f0af07e5c0a05a3f28e312fc92ba1"
 },
 "nbformat": 3,
 "nbformat_minor": 0,
 "worksheets": [
  {
   "cells": [
    {
     "cell_type": "markdown",
     "metadata": {},
     "source": "# MTH9879 Homework 2\n\nAssigned: February 10, 2015.\nDue: February 24, 2015 by 6pm. \n\nLate homework **will not be accepted**.\n\n$$\n\\newcommand{\\supp}{\\mathrm{supp}}\n\\newcommand{\\E}{\\mathbb{E} }\n\\def\\Cov{{ \\mbox{Cov} }}\n\\def\\Var{{ \\mbox{Var} }}\n\\newcommand{\\1}{\\mathbf{1} }\n\\newcommand{\\PP}{\\mathbb{P} }\n%\\newcommand{\\Pr}{\\mathrm{Pr} }\n\\newcommand{\\QQ}{\\mathbb{Q} }\n\\newcommand{\\RR}{\\mathbb{R} }\n\\newcommand{\\DD}{\\mathbb{D} }\n\\newcommand{\\HH}{\\mathbb{H} }\n\\newcommand{\\spn}{\\mathrm{span} }\n\\newcommand{\\cov}{\\mathrm{cov} }\n\\newcommand{\\sgn}{\\mathrm{sgn} }\n\\newcommand{\\HS}{\\mathcal{L}_{\\mathrm{HS}} }\n%\\newcommand{\\HS}{\\mathrm{HS} }\n\\newcommand{\\trace}{\\mathrm{trace} }\n\\newcommand{\\LL}{\\mathcal{L} }\n%\\newcommand{\\LL}{\\mathrm{L} }\n\\newcommand{\\s}{\\mathcal{S} }\n\\newcommand{\\ee}{\\mathcal{E} }\n\\newcommand{\\ff}{\\mathcal{F} }\n\\newcommand{\\hh}{\\mathcal{H} }\n\\newcommand{\\bb}{\\mathcal{B} }\n\\newcommand{\\dd}{\\mathcal{D} }\n\\newcommand{\\g}{\\mathcal{G} }\n\\newcommand{\\p}{\\partial}\n\\newcommand{\\half}{\\frac{1}{2} }\n\\newcommand{\\T}{\\mathcal{T} }\n\\newcommand{\\bi}{\\begin{itemize}}\n\\newcommand{\\ei}{\\end{itemize}}\n\\newcommand{\\beq}{\\begin{equation}}\n\\newcommand{\\eeq}{\\end{equation}}\n\\newcommand{\\beas}{\\begin{eqnarray*}}\n\\newcommand{\\eeas}{\\end{eqnarray*}}\n\\newcommand{\\cO}{\\mathcal{O}}\n\\newcommand{\\cF}{\\mathcal{F}}\n\\newcommand{\\cL}{\\mathcal{L}}\n\\newcommand{\\BS}{\\text{BS}}\n$$"
    },
    {
     "cell_type": "markdown",
     "metadata": {},
     "source": "<font color = \"red\">Homework is to be done by each student individually.  To receive full credit, you must email a completed copy of this iPython notebook to Yu Gan (yugan323@gmail.com), Fubo Shi (fubo.shi.baruch@gmail.com), and Tai-Ho Wang (tai-ho.wang@baruch.cuny.edu) by the due date and time.  All R-code must run correctly and solutions must be written up neatly in Markdown/LaTeX format.\n\n<font color=\"blue\">If you encounter problems with Markdown/LaTeX or iPython notebook, please contact your TAs Yu Gan and/or Fubo Shi.\n"
    },
    {
     "cell_type": "markdown",
     "metadata": {},
     "source": "### 0. (0 points) \n\nRead Chapter 12 of Hasbrouck and Section 6.4 of Foucault, Pagano and R&ouml;ell.\n"
    },
    {
     "cell_type": "markdown",
     "metadata": {},
     "source": "## The Parlour (1998) model"
    },
    {
     "cell_type": "markdown",
     "metadata": {},
     "source": "### 1. (10 points) \nConsider the first step $t = 1$ of the 3-step order book case presented in the lecture slides. Suppose that the order book at (or just before) $t = 1$ has one share offered and one share bid ($n_B = n_A = 1$).\n\nGive the probabilities as of a market buy, market sell, limit buy and limit sell at $t = 1$,\nYou may use my Mathematica notebook *Parlour.nb* as a guide (if you wish)."
    },
    {
     "cell_type": "markdown",
     "metadata": {},
     "source": "### 2. (4 points) \nExplain why the optimal market/limit order decision depends in general on quantity available on both sides of the order book in the Parlour model."
    },
    {
     "cell_type": "markdown",
     "metadata": {},
     "source": "### Set up R-environment"
    },
    {
     "cell_type": "code",
     "collapsed": false,
     "input": "%load_ext rpy2.ipython",
     "language": "python",
     "metadata": {},
     "outputs": [],
     "prompt_number": 1
    },
    {
     "cell_type": "code",
     "collapsed": false,
     "input": "%%R\ndownload.file(url=\"http://mfe.baruch.cuny.edu/wp-content/uploads/2015/01/ziSetup.zip\", destfile=\"ziSetup.zip\")\nunzip(zipfile=\"ziSetup.zip\")\nsource(\"ziSetup.R\")",
     "language": "python",
     "metadata": {},
     "outputs": [],
     "prompt_number": 2
    },
    {
     "cell_type": "markdown",
     "metadata": {},
     "source": "## Cont-Kukanov optimal order placement"
    },
    {
     "cell_type": "markdown",
     "metadata": {},
     "source": "### 3. (16 points)\n\nConsider the two BATS exchanges BZX and BYX.  Suppose you are trying to buy shares of MSFT in 3.9 minutes ($1\\%$ of the trading day).  Suppose further that the two exchanges have the following characteristics:\n\n**Exchange** | **Make fee** | **Take fee** | **Daily volume** \n-----|-----:|-------:| ---- |\n| **(per share)** | **(per share)** | **(shares)** \nBZX | -0.32\u00a2 | +0.30\u00a2 | 10,500,000\nBYX | +0.03\u00a2 | -0.03\u00a2 | 1,300,000\n\nAssume the daily volatility of MSFT is $1\\%$ and that MSFT is trading at $\\$37.50$.\n\n(a) We may suppose that if your order is only partially filled, that's because the price moved away (*adverse selection*).  This suggests that we penalize any under fill of limit orders by $\\sigma\\,\\sqrt{T}$ where $T$ is the order duration.  Compute the corresponding value of $\\lambda_u$ in cents per share.\n\n\n(b) Assuming a spread of $1$ cent, what are $h$, $f$, and $r$ for BZX and BYX respectively (in cents per share)?\n\n\n(c) Assuming no seasonality, what is the mean value $\\bar \\xi$ of $\\xi$ (over 3.9 minutes) for BZX and BYX respectively (in shares)?\n\n\n(d)  Assume that $\\xi$ is log normally distributed with\n\n$$\n\\xi = \\bar \\xi \\,\\exp\\left\\{\\sigma\\,Z-\\frac 12\\,\\sigma^2\\right\\}.\n$$\n\nwhere $Z \\sim N(0,1)$ and $\\sigma = 1/2$.  What is the standard deviation of $\\xi$ (in terms of $\\bar \\xi$)?\n\n\n(e) Write R-code to determine the optimal order size $L^\\star+Q$ on BZX and BYX respectively. Assume here that you will either trade on BZX or BYX; there is no splitting of the order between the two exchanges. <br>\n(Hint: You may find the R function *qnorm(. )* useful).\n\n\n(f) Compare the optimal limit order sizes from part (e) with the ratios of quote sizes and volumes on BZX and BYX.  Are your results from part (e) roughly consistent with observation.  You may assume that the quote sizes shown on the MSFT BATS slides from Lecture 1 are typical."
    },
    {
     "cell_type": "markdown",
     "metadata": {},
     "source": "## The Bouchaud-M&eacute;zard-Potters order book approximation"
    },
    {
     "cell_type": "markdown",
     "metadata": {},
     "source": "### 4. (16 points)\n\nWhen $\\lambda(u)=\\alpha$,  a constant, the BMP order density becomes\n\n\\begin{eqnarray*}\n\\rho_{BMP}(\\Delta) &=& \\frac{\\alpha}{\\delta}\\,\\left\\{e^{-\\Delta/{\\tilde \\Delta}}\\,\\int_0^{\\Delta/{\\tilde\\Delta}}\\,\\sinh(u)\\,du + \\sinh(\\Delta/{\\tilde \\Delta})\\,\\int_{\\Delta/{\\tilde\\Delta}}^\\infty\\,e^{-u}\\,du\\right\\} \\\\\n&=&\\frac{\\alpha}{\\delta}\\,\\left\\{1 - e^{-\\Delta/{\\tilde \\Delta}}  \\right\\}\n\\end{eqnarray*}\n\nwhere the characteristic distance\n\n$$\n\\tilde \\Delta=\\sqrt{\\frac{\\sigma^2}{2\\,\\delta}}.\n$$\n\n(a) Amend the SFGK zero intelligence code from Problem 3 of HW1 to count the number of limit orders generated in addition to computing the average book shape.\n\n(b) With $\\alpha = 1$, $\\mu = 10$ and $\\delta = \\frac15$, simulate 100,000 events and plot the resulting average book shape in red (in a band $\\pm 20$ around the mid price).\n\n(c) From your simulation, what is the probability $P_L$ of a limit order at a given level conditional on an event? (Recall that there are 60 limit order levels in the simulation).\n\n(d) In [Gatheral and Oomen]<sup id=\"cite_ref-GO\" class=\"reference\"><a href=\"#cite_note-GO\"><span>[</span>1<span>]</span></a></sup>, with these SFGK parameters, realized variance per event was estimated as\n\n$$\n\\sigma^2_{GO} = 0.083.\n$$\n\nUsing your estimate $P_L$ of limit orders per level per event, convert this estimate to variance per limit order (recall that $\\alpha=1$).  Denote your result by $\\sigma^2_{GO}$.  Compute the characteristic distance $\\tilde \\Delta_{GO}$ with this estimate $\\sigma^2_{GO}$.\n\n(e) In Lecture 1, using dimensional analysis, we estimated that variance $\\sigma^2_{DA}$ per unit time should be of the order of\n\n$$\n\\sigma^2_{DA} = \\frac{\\mu\\,\\delta}{\\alpha^2}.\n$$\n\nCompute the characteristic distance $\\tilde \\Delta_{DA}$ with this estimate $\\sigma^2_{DA}$.\n\n(f)  Using your two estimates of $\\tilde \\Delta$ from parts (d) and (e),  write functions to compute the corresponding order book densities $\\rho_{GO}(\\Delta)$ and $\\rho_{DA}(\\Delta)$.\n\n(g)\nSuperimpose plots of the asymptotic densities $\\rho_{DA}(\\Delta)$ (in blue) and $\\rho_{DA}(\\Delta)$ (in orange) on your plot of the average book shape."
    },
    {
     "cell_type": "markdown",
     "metadata": {},
     "source": "### 5. (6 points)\n\nAnother of Mike and Farmer's observations is that the distribution of marketable as well as unmarketable limit orders as a function of distance $\\Delta$ to the same-side best quote is well-described by a Student-$t$ distribution.  Assume $\\mu=1/2$ as above.\n\n(a) Derive an expression in terms of the Student-$t$ cumulative density function for the ratio of arrival rates of limit to market orders as a function of the spread $s$.  How does this ratio vary with $s$?\n\n(b) Relative to the zero-intelligence model, does this empirically observed strategic behavior make the spread revert faster or more slowly?"
    },
    {
     "cell_type": "markdown",
     "metadata": {},
     "source": "### References\n\n<div class=\"reflist\" style=\"list-style-type: decimal;\">\n\n<ol>\n\n  <li id=\"cite_note-GO\"><span class=\"mw-cite-backlink\"><b><a href=\"#cite_ref-GO\">^</a></b></span> Jim Gatheral and Roel C. A Oomen, Zero-intelligence realized variance estimation, <span>*Finance and Stochastics*,</span> <span>**14**</span>(2) 249\u2013283, 2010.</li>\n\n</ol>"
    }
   ],
   "metadata": {}
  }
 ]
}