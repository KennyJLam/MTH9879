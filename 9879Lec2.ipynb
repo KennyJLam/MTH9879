{
 "metadata": {
  "name": "9879Lec2",
  "signature": "sha256:1e7bd7ef7037629a2f2fb45aae1dc047cc6a24d3137b1d3b84a83a310c114518"
 },
 "nbformat": 3,
 "nbformat_minor": 0,
 "worksheets": [
  {
   "cells": [
    {
     "cell_type": "markdown",
     "metadata": {
      "slideshow": {
       "slide_type": "slide"
      }
     },
     "source": "# MTH 9879 Market Microstructure Models,    Spring 2015 \n\n## Lecture 2: Order book and order flow: The market or limit order decision\n\nTai-Ho Wang    \nDepartment of Mathematics   \n  \n  \n<h2><img src=\"http://mfe.baruch.cuny.edu/wp-content/uploads/2014/09/BCCUNYstacked_BLK.jpg\" align = \"center\" width=160></h2>  \n\n$$\n\\newcommand{\\bea}{\\begin{eqnarray}}\n\\newcommand{\\eea}{\\end{eqnarray}}\n\\newcommand{\\supp}{\\mathrm{supp}}\n\\newcommand{\\F}{\\mathcal{F} }\n\\newcommand{\\cF}{\\mathcal{F} }\n\\newcommand{\\E}{\\mathbb{E} }\n\\newcommand{\\Eof}[1]{\\mathbb{E}\\left[ #1 \\right]}\n\\def\\Cov{{ \\mbox{Cov} }}\n\\def\\Var{{ \\mbox{Var} }}\n\\newcommand{\\1}{\\mathbf{1} }\n\\newcommand{\\p}{\\partial}\n\\newcommand{\\PP}{\\mathbb{P} }\n\\newcommand{\\Pof}[1]{\\mathbb{P}\\left[ #1 \\right]}\n\\newcommand{\\QQ}{\\mathbb{Q} }\n\\newcommand{\\R}{\\mathbb{R} }\n\\newcommand{\\DD}{\\mathbb{D} }\n\\newcommand{\\HH}{\\mathbb{H} }\n\\newcommand{\\spn}{\\mathrm{span} }\n\\newcommand{\\cov}{\\mathrm{cov} }\n\\newcommand{\\HS}{\\mathcal{L}_{\\mathrm{HS}} }\n\\newcommand{\\Hess}{\\mathrm{Hess} }\n\\newcommand{\\trace}{\\mathrm{trace} }\n\\newcommand{\\LL}{\\mathcal{L} }\n\\newcommand{\\s}{\\mathcal{S} }\n\\newcommand{\\ee}{\\mathcal{E} }\n\\newcommand{\\ff}{\\mathcal{F} }\n\\newcommand{\\hh}{\\mathcal{H} }\n\\newcommand{\\bb}{\\mathcal{B} }\n\\newcommand{\\dd}{\\mathcal{D} }\n\\newcommand{\\g}{\\mathcal{G} }\n\\newcommand{\\half}{\\frac{1}{2} }\n\\newcommand{\\T}{\\mathcal{T} }\n\\newcommand{\\bit}{\\begin{itemize}}\n\\newcommand{\\eit}{\\end{itemize}}\n\\newcommand{\\beq}{\\begin{equation}}\n\\newcommand{\\eeq}{\\end{equation}}\n\\newcommand{\\tr}{\\mbox{tr}}\n$$\n"
    },
    {
     "cell_type": "markdown",
     "metadata": {
      "slideshow": {
       "slide_type": "slide"
      }
     },
     "source": "## Outline of Lecture 2\n\n-   Biais, Hillion, and Spatt (1995)\n\n-   Order flow from order book: The market order or limit order decision\n\n    -   The Parlour (1998) model\n\n    -   The Foucault Kadan Kandel (2005) model\n\n    -   The Ro\u015fu (2009) model\n\n    -   Cont and Kukanov (2013)\n\n-   Order book from order flow\n\n    -   Bouchaud, M\u00e9zard and Potters order book shape approximation\n\n    -   Mike and Farmer empirical law of order arrivals"
    },
    {
     "cell_type": "markdown",
     "metadata": {
      "slideshow": {
       "slide_type": "slide"
      }
     },
     "source": "### Price signal in the ZI simulation\n\n-   Recall from Lecture 1 that even in the ZI model, the shape of the\n    order book allows prediction of price movements.\n\n    -   Traders really would need to have zero intelligence not to\n        condition on book shape!\n        \n<h2><img src=\"http://mfe.baruch.cuny.edu/wp-content/uploads/2015/01/asymmetryImbalance.png\" align = \"center\" width=600></h2>\n\nFigure 1: With one share at best offer, future price change vs book\nimbalance."
    },
    {
     "cell_type": "markdown",
     "metadata": {
      "slideshow": {
       "slide_type": "slide"
      }
     },
     "source": "### Biais, Hillion and Spatt\n\n-   In the zero-intelligence models, limit order, market order and\n    cancelation processes are all independent.\n\n    -   In particular, these processes do not depend on the state of the\n        order book.\n\n-   [Biais, Hillion, and Spatt]<sup id=\"cite_ref-BHS\" class=\"reference\"><a href=\"#cite_note-BHS\"><span>[</span>1<span>]</span></a></sup> performed an empirical analysis of the interaction between the\n    order book and order flow processes on the Paris Bourse."
    },
    {
     "cell_type": "markdown",
     "metadata": {
      "slideshow": {
       "slide_type": "slide"
      }
     },
     "source": "### Biais, Hillion and Spatt results\n\n\n<h2><img src=\"http://mfe.baruch.cuny.edu/wp-content/uploads/2015/01/BHS.png\" align = \"center\" width=600></h2>\n"
    },
    {
     "cell_type": "markdown",
     "metadata": {
      "slideshow": {
       "slide_type": "slide"
      }
     },
     "source": "### Biais, Hillion and Spatt: Observations\n\n-   <span>We note the <span>*diagonal*</span> effect:</span>\n\n    -   <span>Events with the same sign are more frequent that events\n        with different signs.</span>\n\n    -   The probability that a given type of order or trade occurs is\n        larger after this event has just occurred than it would be\n        unconditionally.\n\n-   This is inconsistent with the zero-intelligence (ZI) picture.\n\n    -   In the ZI picture, the relative probabilities of events are\n        independent of previous events.\n\n    -   In real markets, order flow depends on the shape of the order\n        book.\n\n-   In a ZI market, traders submit orders and cancelations without\n    looking either at the current state of the book or analyzing order\n    flow.\n<font color=\"red\">\n-   In real markets, traders look at the screen before trading!"
    },
    {
     "cell_type": "markdown",
     "metadata": {
      "slideshow": {
       "slide_type": "slide"
      }
     },
     "source": "### Time series of trade signs: MSFT vs ZI"
    },
    {
     "cell_type": "code",
     "collapsed": false,
     "input": "%load_ext rpy2.ipython",
     "language": "python",
     "metadata": {
      "slideshow": {
       "slide_type": "fragment"
      }
     },
     "outputs": [],
     "prompt_number": 1
    },
    {
     "cell_type": "code",
     "collapsed": false,
     "input": "%%R\ndownload.file(url=\"http://mfe.baruch.cuny.edu/wp-content/uploads/2015/01/ziSetup.zip\", destfile=\"ziSetup.zip\")\nunzip(zipfile=\"ziSetup.zip\")\nsource(\"ziSetup.R\")",
     "language": "python",
     "metadata": {
      "slideshow": {
       "slide_type": "fragment"
      }
     },
     "outputs": [],
     "prompt_number": 2
    },
    {
     "cell_type": "code",
     "collapsed": false,
     "input": "%%R\n\n# Simulate and generate time series of returns\nalpha <-1; mu<-10; delta <- 0.2; # Asymptotic book depth is 5\nnumEvents <- 10000;\ninitializeBook5();\nfor(count in 1:numEvents){generateEvent()}\n\ntradeLog <- eventLog[(eventLog$Type==\"MB\")|(eventLog$Type==\"MS\"),]\ntradeSigns <- ifelse(tradeLog$Type==\"MB\",+1,-1);\nsomeTrades <- 1:100;\nplot(tradeSigns[someTrades],type=\"b\",col=\"blue\",xlab=NA, ylab=\"Trade Sign\",main=\"ZI trades\")",
     "language": "python",
     "metadata": {
      "slideshow": {
       "slide_type": "fragment"
      }
     },
     "outputs": [
      {
       "metadata": {},
       "output_type": "display_data",
       "png": "[encoded data removed]"
      }
     ],
     "prompt_number": 3
    },
    {
     "cell_type": "markdown",
     "metadata": {
      "slideshow": {
       "slide_type": "slide"
      }
     },
     "source": "<h2><img src=\"http://mfe.baruch.cuny.edu/wp-content/uploads/2015/01/msftTrades.png\" align = \"center\" width=600></h2>\n\nFigure 2: Sequences of trade signs from real data and from ZI\nsimulated data"
    },
    {
     "cell_type": "markdown",
     "metadata": {
      "slideshow": {
       "slide_type": "slide"
      }
     },
     "source": "### Observations\n\n-   <span>We don\u2019t see any particular pattern in the ZI market.</span>\n\n-   <span>In the real MSFT market though, we see that MB tends to follow\n    MB and MS tends to follow MS.</span>\n\n    -   It seems that real traders condition their trades on something.\n<font color=\"red\">\n    -   In real markets, traders look at the screen before trading!"
    },
    {
     "cell_type": "markdown",
     "metadata": {
      "slideshow": {
       "slide_type": "slide"
      }
     },
     "source": "### The limit or market order decision\n\n-   <span>We start by describing one of the cleverest models of\n    strategic trading due to Christine Parlour.</span>\n\n    -   Traders correctly compute the probabilities of future events conditional on the current state of the order book and their own actions.\n\n    -   Traders send a market order or a limit order, whichever is better.\n\n    -   Philosophically the <span>*polar opposite*</span> of the zero-intelligence assumption."
    },
    {
     "cell_type": "markdown",
     "metadata": {
      "slideshow": {
       "slide_type": "slide"
      }
     },
     "source": "### The Parlour (1998) model\n\n-   <span>Trading occurs on day 1, starting at time $t=1$ and ending at\n    $t=T$.</span>\n\n-   <span>Everyone knows that on day 2, the asset will be worth\n    $V$.</span>\n\n-   <span>Infinite order-book depth at the bid $B$ and the ask $A$ so\n    these don\u2019t change over time.</span>\n\n    -   <span>$\n        B=V-s/2;\\,A=V+s/2;\n        $</span>\n\n-   <span>At each time $t$ during the trading day, one (new and\n    different) trader arrives who is a buyer or seller with probability\n    $1/2$.</span>\n\n    -   <span>This trader may submit a market or a limit order or do\n        nothing.</span>\n\n-   <span>The trader at time $t$ has utility\n    $$U_t=C_1+\\beta_t\\,C_2\\, \\text{ with } \\beta_t \\in \\left[\\underline \\beta, \\bar \\beta\\right]$$\n    where $\\beta_t$ is a time-preference parameter and the $C_i$ denote\n    consumption on day $i=1,2$. </span>\n\n    -   For example, if trader $t$ is a seller, the lower $\\beta_t$ is,\n        the more likely\n        he is to submit a market order."
    },
    {
     "cell_type": "markdown",
     "metadata": {
      "slideshow": {
       "slide_type": "slide"
      }
     },
     "source": "### A generic timestep in the Parlour model\n\n<h2><img src=\"http://mfe.baruch.cuny.edu/wp-content/uploads/2015/01/ParlourGenericTimeStep.png\" align = \"center\" width=600></h2>\n"
    },
    {
     "cell_type": "markdown",
     "metadata": {
      "slideshow": {
       "slide_type": "slide"
      }
     },
     "source": "### At time $T$\n\n-   <span>There is no point in sending a limit order because the\n    probability of a fill is zero.</span>\n\n\n-   <span>For a seller, the increase in utility (benefit) associated\n    with a market sell would be\n    \n    $$\\Delta U_T=B-\\beta_T\\,V.$$\n    \n    Thus a\n    seller will enter a market order only if $B-\\beta_T\\,V >0$ or\n    equivalently if $\\beta_T< B/V$. </span>\n\n\n-   <span>We can then compute the unconditional probability as of time\n    $T-1$ of a market sell (MS) in period $T$:\n    \n    $${\\mathbb{P} }^S_T=\\frac{1}{2}\\,{\\mathbb{P} }\\left(\\beta_T<\\frac{B}{V}\\right).$$\n    </span>\n\n\n-   <span>Similarly,\n    $${\\mathbb{P} }^B_T=\\frac{1}{2}\\,{\\mathbb{P} }\\left(\\beta_T>\\frac{A}{V}\\right).$$\n    </span>"
    },
    {
     "cell_type": "markdown",
     "metadata": {
      "slideshow": {
       "slide_type": "slide"
      }
     },
     "source": "### At time $T-1$\n\n-   <span>There is now some potential benefit to submitting a limit\n    order.</span>\n\n-   <span>The upside associated with a limit order depends on the\n    probability of a fill (respectively MB or MS) in period $T$.</span>\n\n    -   <span>These fill probabilities depend in particular on the\n        distribution of $\\beta_T$.</span>\n\n-   <span>There is no point in sending a limit order if there is\n    existing quantity in the order book.</span>\n\n    -   <span>The limit order at the front of the queue has\n        priority.</span>"
    },
    {
     "cell_type": "markdown",
     "metadata": {
      "slideshow": {
       "slide_type": "slide"
      }
     },
     "source": "### At generic time $t$\n\n-   <span>The upside associated with a limit order depends on the\n    probability of a fill (respectively MB or MS) in subsequent\n    periods.</span>\n\n    -   <span>These fill probabilities depend in particular on the\n        distribution of $\\beta_t$.</span>\n\n-   <span>The decision to send a limit order depends on position in the\n    queue.</span>\n\n    -   <span>So the market order/ limit order decision depends on the\n        number of shares $n_t$ on the same side of the book.</span>\n\n-   <span>For clarity, again consider the case of a seller.</span>\n\n-   <span>The market order/ limit order decision depends also on the\n    length of the queue on the bid side of the order book.</span>\n\n    -   <span>The longer the queue on the bid side, the more likely it\n        is that a market buy order will be submitted in subsequent\n        periods and the more likely that a limit sell order will be\n        filled.</span>"
    },
    {
     "cell_type": "markdown",
     "metadata": {
      "slideshow": {
       "slide_type": "slide"
      }
     },
     "source": "### Time $t$ payoffs\n\n<a name=\"tab:payoffs\"></a>Table 1: Time $t$ payoffs\n\n\n|      Strategy     | Payoff |\n|:-----------------|:------|\n|  Market sell (MS)   |   $B-\\beta_t\\,V$   |\n|  Limit sell (LS)    |   $(A-\\beta_t\\,V)\\,{\\mathbb{P} }^B_{t+i}$   |\n|   Limit buy (LB)    |   $(\\beta_t\\,V-B)\\,{\\mathbb{P} }^S_{t+i}$   |\n| Market buy (MB)   |   $\\beta_t\\,V-A$   |\n  \n\n-   <span>From the payoffs in [Table 1](#tab:payoffs), we can compute the\n    probabilities of a market buy and market sell and by recursion,\n    compute the same for period $t-1$.</span>"
    },
    {
     "cell_type": "markdown",
     "metadata": {
      "slideshow": {
       "slide_type": "slide"
      }
     },
     "source": "### A numerical example\n\nFollowing [Parlour]<sup id=\"cite_ref-Parlour\" class=\"reference\"><a href=\"#cite_note-Parlour\"><span>[</span>7<span>]</span></a></sup>, we assume the following parameters:\n\n$$\nV=5.5;\\,B=5;\\,A=6; \\,T=3 \\text { and } \\beta_t \\sim U(0,2).\n$$ \n\nAt time\n$t=T= 3$,\n\n$$\n{\\mathbb{P} }(MS|S)=\\frac{1}{2}\\,\\int_0^2\\,d\\beta\\,{\\mathbf{1} }_{\\{\\beta<B/V\\}}=\\frac{1}{2}\\,\\int_0^{10/11}\\,d\\beta = \\frac5{11}.\n$$\n\nThus \n\n$$\\PP^S_3=\\frac{5}{22}.$$ \n\nBy symmetry, \n\n$$\\PP^B_3=\\frac{5}{22}.$$"
    },
    {
     "cell_type": "markdown",
     "metadata": {
      "slideshow": {
       "slide_type": "slide"
      }
     },
     "source": "### Time $t=2$: No existing quantity in the order book\n\nSuppose the order book is empty at time $t=2=T-1$.\n\n-   The utility of a market sell order is $B - \\beta_t\\,V$.\n\n-   The utility of a limit sell order is\n    $(A - \\beta_t\\,V) \\,{\\mathbb{P} }^B_3$.\n\nThus, submit a MS only if\n$B - \\beta_t\\,V \\geq (A - \\beta_t\\,V) \\,{\\mathbb{P} }^B_3$ or\nequivalently\n\n$$\\beta_2 \\leq \\frac{B-A\\,{\\mathbb{P} }^B_3}{V\\,(1-{\\mathbb{P} }^B_3)} = \\frac{B-A\\,{\\mathbb{P} }^B_3}{V\\,(1-{\\mathbb{P} }^B_3)} =\\frac{160}{187}.$$\n\nContinuing in this way, we compute that a seller will choose as follows:\n\n\n| Action         | Condition | Numerically |\n|----------------|-----------|-------------|\n| Marketsell(MS) |     if $B-\\beta_t\\,V \\geq (A-\\beta_t\\,V)^+\\,{\\mathbb{P} }^B_{3}$      |    $0 \\leq \\beta_t<\\frac{160}{187}$         |\n| Limitsell(LS)  |     if $(A-\\beta_t\\,V)\\,{\\mathbb{P} }^B_{3}>(B-\\beta_t\\,V)^+$      |   $\\frac{160}{187} \\leq \\beta_t<\\frac{12}{11}$          |\n| Do nothing     |     otherwise      |   $\\frac{12}{11}\\leq \\beta_t \\leq 2$          |\n"
    },
    {
     "cell_type": "markdown",
     "metadata": {
      "slideshow": {
       "slide_type": "slide"
      }
     },
     "source": "### Time $t=2$: No existing quantity in the order book\n\nThus, conditional on an empty book and the trader being a seller,\n\\begin{eqnarray*}\n{\\mathbb{P} }_{MS}&=&{\\mathbb{P} }\\left(\\beta_2<\\frac{160}{187}\\right)=\\frac{80}{187}\\\\\n{\\mathbb{P} }_{0}&=&{\\mathbb{P} }\\left(\\beta_2>\\frac{12}{11}\\right)=\\frac{5}{11}\\\\\n{\\mathbb{P} }_{LS}&=&1-{\\mathbb{P} }_{MS}-{\\mathbb{P} }_{0}=1-\\frac{80}{187}-\\frac{5}{11}=\\frac{2}{17}.\\end{eqnarray*}"
    },
    {
     "cell_type": "markdown",
     "metadata": {
      "slideshow": {
       "slide_type": "slide"
      }
     },
     "source": "### What if the book is not empty?\n\n-   If there is quantity on the bid side, it is not optimal for a buyer\n    to leave a limit order.\n\n    -   This case reduces to the case $t=3=T$.\n\n    -   MS is optimal for a seller if $\\beta<B/V=10/11$ so\n        ${\\mathbb{P} }_{MS}=5/11$.\n\n-   In particular, consider the case where ${160}/{187}\\leq \\beta<10/11$\n    ($0.86\\leq \\beta<0.91$):\n\n    -   If there is no sell order in the book, a seller will submit LS.\n\n    -   If there is an existing sell order in the book, a seller will\n        submit MS.\n\n-   We need to expand our state space to include the state of the book.\n\n    -   The market/limit order decision depends on the state of the\n        order book.\n\n    -   We need richer notation. For example\n        ${\\mathbb{P} }_{\\text{event}}[n_B,n_A](t)$."
    },
    {
     "cell_type": "markdown",
     "metadata": {
      "slideshow": {
       "slide_type": "slide"
      }
     },
     "source": "### Model predictions\n\n-   <span>An increase in book depth $n_B$ on the bid-side decreases the\n    probability of a limit buy order.</span>\n\n-   <span>A decrease in book depth $n_A$ on the ask-side decreases the\n    probability of a market sell order in subsequent periods and so\n    decreases the probability of a limit buy order.</span>\n\n-   <span>Order signs will be autocorrelated - a <span>*herding*</span>\n    effect.</span>\n\n    -   <span>A market sell order increases the probability of a\n        subsequent market sell and decreases the probability of a\n        subsequent market buy.</span>"
    },
    {
     "cell_type": "markdown",
     "metadata": {
      "slideshow": {
       "slide_type": "slide"
      }
     },
     "source": "### Comments\n\n-   In the Parlour model, it is optimal to herd even though the bid and\n    ask prices do not move.\n\n    -   Conditional on MB, the probability of MB increases if agents are\n        rational.\n\n-   Even in the ZI market, we can predict the expected price change from\n    the current shape of the order book.\n\n    -   We are far from efficient markets at this micro timescale.\n\n    -   It is optimal to herd not only for the strategic reasons\n        illuminated by the Parlour model but also because order book\n        shape and order flow are informative for future price movements.\n\n-   <span>It follows in particular that both market and limit orders\n    have market impact.</span>\n\n    -   <span>In fact, even hidden orders will have market impact due to\n        pinging!</span>"
    },
    {
     "cell_type": "markdown",
     "metadata": {
      "slideshow": {
       "slide_type": "slide"
      }
     },
     "source": "### Zero intelligence vs efficient markets\n\n-   <span>Traders certainly do condition their actions on the current\n    state of the market as well as the history of order flow.</span>\n\n-   <span>However, we cannot believe the caricature that rational\n    traders are able to compute the rational reaction of other agents to\n    their own rational actions.</span>\n\n    -   We will see later when we study the Kyle model that this\n        caricature may nevertheless describe an equilibrium resulting\n        from agents performing linear regression.\n\n-   <span>Reality lies somewhere between these two extremes.</span>"
    },
    {
     "cell_type": "markdown",
     "metadata": {
      "slideshow": {
       "slide_type": "slide"
      }
     },
     "source": "### Foucault, Kadan and Kandel (2005)\n\nIn this model:\n\n-   Liquidity traders choose between market orders and limit orders.\n\n    -   This choice depends on their degree of impatience.\n\n-   Different traders value immediacy differently.\n\n    -   Type ${\\mathcal{P} }$ traders incur a waiting cost at rate\n        $\\delta_P$ and type ${\\mathcal{I} }$ traders at rate $\\delta_I$\n        with $\\delta_I>\\delta_P>0$.\n\n    -   Traders arrive at rate $\\lambda$.\n\n    -   The proportion of patient traders is $\\theta_P$.\n        $\\theta_I=1-\\theta_P$.\n\n-   Order book depth is infinite at $B$ and $A$, where $A>B$. The best quotes $b$ and $a$ satisfy $b\\geq B$ and $a \\leq A$, so $s:=a-b < K := A-B$. Prices are in discrete ticks $\\Delta$."
    },
    {
     "cell_type": "markdown",
     "metadata": {
      "slideshow": {
       "slide_type": "slide"
      }
     },
     "source": "### Trading rules\n\n-   A trader arrives only once, submits an order and leaves the market.\n<font color=\"red\">\nOrders cannot be modified or canceled.</font>\n\n-   Limit orders must be price improving; they must narrow the spread.\n\n-   Buyers and sellers alternate. The first trade is a buy with\n    probability $\\frac12$."
    },
    {
     "cell_type": "markdown",
     "metadata": {
      "slideshow": {
       "slide_type": "slide"
      }
     },
     "source": "### Computation of equilibrium\n\nWlog, take tick size $\\Delta=1$.\n\n-   A buyer can either take the offer at $a$ or submit a limit buy order\n    at $a-j$ with $j \\in \\{1,...,s\\}$.\n\n    -   Higher $j$\u2019s are less aggressive.\n\n-   The trader needs to compute\n    $$\\max_{j \\in \\{0,...,s-1\\}} \\pi_i(j):= j-\\delta_i \\,T(j)$$ where\n    $T(j)$ is the expected time to execution and $i \\in \\{I,P\\}$.\n\n-   Optimal (equilibrium?) strategies assign a $j$ to each possible spread $s$.\n\n-   Optimal (equilibrium?) strategies (different for ${\\mathcal{P} }$ and\n    ${\\mathcal{I} }$) maximize expected profits assuming that all\n    subsequent traders follow the same optimal strategy."
    },
    {
     "cell_type": "markdown",
     "metadata": {
      "slideshow": {
       "slide_type": "slide"
      }
     },
     "source": "### Equilibrium solution\n\n-   Start at the end node: If $s=1$, the trader, whether\n    ${\\mathcal{P} }$ or ${\\mathcal{I} }$, needs to submit a market\n    order.\n\n-   If $s=2$ compare submission of a limit order with $j=1$ or a market\n    order.\n\n    -   If a limit order is submitted, it will shrink the spread to $1$\n        and will be executed next period. So $T(1)=\\frac1\\lambda$.\n\n    -   The payoff from a market order is $0-\\delta_i \\,T(0)=0$.\n\n    -   The payoff from a limit order is $1-\\frac{\\delta_i}\\lambda$ which is\n        greater for $\\mathcal{P}$ than for $\\mathcal{I}$.\n\n-   Continuing by induction, we can compute optimal actions for both\n    ${\\mathcal{P} }$ and ${\\mathcal{I} }$ traders for all possible\n    spreads $s \\leq K=A-B$.\n\n    -   In particular, there is some minimum spread level $s^*$ such\n        that both ${\\mathcal{P} }$ and ${\\mathcal{I} }$ traders will in\n        general submit only market orders if $s \\leq s^*$.\n\n    -   Also, there is a maximum spread level beyond which both\n        ${\\mathcal{I} }$ and ${\\mathcal{P} }$ traders will submit limit\n        orders."
    },
    {
     "cell_type": "markdown",
     "metadata": {
      "slideshow": {
       "slide_type": "slide"
      }
     },
     "source": "### Final result\n\n-   The final expression for the expected time to execution is\n\n    <a name=\"eq:timeFKK\"></a>(1)\n    $$T(s_m)=\\frac{1}{\\lambda}\\,\\left\\{1+2\\,\\sum_{k=1}^{m-1}\\,\\left(\\frac{\\theta_P}{1-\\theta_P}\\right)^k\\right\\}\n    $$ where $s_m$ is the $m$th spread value in the\n    table of equilibrium spreads derived above.\n\n-   The equilibrium spreads are equal to:\n\n    <a name=\"eq:spreadFKK\"></a>(2)\n    $$s_1=s^*;\\,s_m=s_1+\\sum_{k=2}^m\\,\\psi_k \\text{ for } m=2,...,q\n    $$ with\n    $$\\psi_k=\\left \\lceil 2\\,\\frac{\\delta_P}{\\lambda\\,\\Delta}\\,\\left(\\frac{\\theta_P}{1-\\theta_P}\\right)^{k-1}\\right \\rceil \\text{ and } s_q=K.$$"
    },
    {
     "cell_type": "markdown",
     "metadata": {
      "slideshow": {
       "slide_type": "slide"
      }
     },
     "source": "### Comparative statics\n\nFrom [(1)](#eq:timeFKK) and [(2)](#eq:spreadFKK), we see that:\n\n-   As the proportion $\\theta_P$ of patient traders increases:\n\n    -   The expected time to execution increases.\n\n    -   The equilibrium spreads increase.\n\n-   As the arrival rate $\\lambda$ increases, spreads decrease.\n\n-   As the cost of waiting decreases, spreads increase.\n\n    -   Scaling $\\lambda$ and the $\\delta_i$ by the same factor leaves\n        all results unchanged.\n\n\n\n-   Note that we can define a measure of resiliency $R = \\theta_P^{q-1}$\n    which is the probability that the spread will revert from its\n    maximum level $K=A-B$ to $s^*$ before the next transaction."
    },
    {
     "cell_type": "markdown",
     "metadata": {
      "slideshow": {
       "slide_type": "slide"
      }
     },
     "source": "### FKK (2005) model summary\n\n-   The Foucault, Kadan and Kandell model gives us an equilibrium\n    distribution of spreads.\n\n-   The optimal strategy for both ${\\mathcal{I} }$ and ${\\mathcal{P} }$\n    traders depends (only) on the spread.\n\n\n-   If the spread is very wide, both ${\\mathcal{I} }$ and\n    ${\\mathcal{P} }$ will submit limit orders.\n\n-   If the spread is sufficiently narrow, both ${\\mathcal{I} }$ and\n    ${\\mathcal{P} }$ will submit market orders."
    },
    {
     "cell_type": "markdown",
     "metadata": {
      "slideshow": {
       "slide_type": "slide"
      }
     },
     "source": "### The Ro\u015fu (2009) model\n\nIn the [Ro\u015fu]<sup id=\"cite_ref-Rosu\" class=\"reference\"><a href=\"#cite_note-Rosu\"><span>[</span>8<span>]</span></a></sup> model:\n\n-   Four types of traders: Patient buyers, patient sellers, impatient\n    buyers, impatient sellers arrive randomly at rates\n    $\\lambda_{PB},\\,\\lambda_{PS},\\,\\lambda_{IB},\\,\\lambda_{IS}$.\n\n-   As in Foucault, Kadan and Kandel, traders lose utility\n    proportionally to expected waiting time at rate $r$ called the\n    <span>*patience coefficient*</span>.\n\n    -   $r'$ for impatient traders is assumed to be so much greater than\n        $r$ that impatient traders always submit market orders.\n\n-   Order book depth is infinite at $B$ and $A>B$.\n\n-   Time is continuous and prices are continuous.\n\n-   Traders may submit market orders or limit orders.\n    -   <font color=\"red\">Limit orders may be canceled at any time.</font>\n    -   All orders are executed instantaneously."
    },
    {
     "cell_type": "markdown",
     "metadata": {
      "slideshow": {
       "slide_type": "slide"
      }
     },
     "source": "### Equilibrium: One side of the order book\n\nA special case of this model can be solved in closed form:\n\n-   Assume $\\lambda_{PB}=\\lambda_{IS}=0$ so there are only patient\n    sellers and impatient buyers.\n\n    -   The best bid is stuck at the minimum level $B$.\n\n-   Put $\\lambda_{PS}=\\lambda_1$ and $\\lambda_{IB}=\\lambda_{2}$ and\n    denote the seller\u2019s patience coefficient by $r$.\n\n    -   If there are $m$ (sell) orders in the book at levels $a_i$,\n        $i \\in \\{1,..,m\\}$, the utility of the $i$th seller is given by\n        $$f_i=a_i-r\\,\\tau^\\star_i=f_m$$ where $\\tau^\\star_i$ is the\n        expected time to execution for the $i$th order.\n\n    -   The last equality holds because in equilibrium, every trader\n        must have the same utility; allowing costless cancelations makes\n        this argument work."
    },
    {
     "cell_type": "markdown",
     "metadata": {
      "slideshow": {
       "slide_type": "slide"
      }
     },
     "source": "### The main idea\n\n-   Suppose there is no quantity in the book.\n\n-   It is optimal for the first patient seller (trader 1) to submit a\n    sell order at $A$ (the highest possible price).\n\n-   Now suppose a second patient seller (trader 2) comes to the market.\n\n-   Traders 1 and 2 engage in a price war, undercutting each other until\n    their utilities are equal:\n\n    -   The optimal solution is for trader 1 to post at $a_1=A$ and\n        trader 2 to post at $a_2<A$ such that their two utilities are\n        equal.\n\n    -   Trader 1 waits longer for an execution but gets a higher price."
    },
    {
     "cell_type": "markdown",
     "metadata": {
      "slideshow": {
       "slide_type": "slide"
      }
     },
     "source": "### Definitions\n\n\n<font color=\"red\">\n#### Definitions\n\n\\begin{eqnarray*}\n\\lambda&=&\\lambda_1+\\lambda_2 = \\textbf{activity}\\\\\nc&=&\\frac{\\lambda_1}{\\lambda_2}=\\textbf{competition}\\\\\n\\epsilon &=& \\frac{r}{\\lambda}=\\textbf{granularity}\\end{eqnarray*}"
    },
    {
     "cell_type": "markdown",
     "metadata": {
      "slideshow": {
       "slide_type": "slide"
      }
     },
     "source": "### Maximum order book size\n\n-   The number of orders in the book must be finite and $\\leq M$ for\n    some $M>0$.\n\n-   Otherwise, the expected execution time at the top of the book would\n    be $+\\infty$ and the associated utility $-\\infty$.\n\n    -   An agent encountering a full book with $M$ orders would always\n        rather hit the bid at $B$.\n\n<font color=\"red\">\n#### Theorem\nThe maximum number $M$ of sellers in the book is given by\n\n$$M=\\frac{\\log\\left(\\frac{A-B}{\\epsilon}\\frac{(c-1)^2}{c+1}\\right)}{\\log c}+s, \\text { with } s \\in \\left(-1,\\frac{\\log 2}{\\log c}\\right)$$"
    },
    {
     "cell_type": "markdown",
     "metadata": {
      "slideshow": {
       "slide_type": "slide"
      }
     },
     "source": "### Minimum spread\n\nWhen the book is full ($m=M$), the utility of placing an order at $a_M$\nmust equal the utility of hitting the bid at $B$. Thus\n\n$$a_M-r\\,\\tau^\\star_M=B$$\n\n($B$ being the utility of a market sell order\nat $B$). Since\n\n$$\\tau^\\star_M=\\frac{1}{\\lambda_2},$$\n\neven though the\ntick size is zero, we can see that:\n\n<font color=\"red\">\n#### Corollary\nThere is a minimum spread $$s_{\\min}=a_M-B=\\frac{r}{\\lambda_2}$$"
    },
    {
     "cell_type": "markdown",
     "metadata": {
      "slideshow": {
       "slide_type": "slide"
      }
     },
     "source": "### A recursive expression for $f_m$\n\n-   From a book with $m$ sellers, either\n\n    -   A patient seller arrives at random time\n        $T_1 \\sim \\exp(\\lambda_1)$\n\n        -   $\\hookrightarrow$ a book with $m+1$ sellers.\n\n        -   ${\\mathbb{P} }(\\text{PS}|\\text{New event})=\\frac{\\lambda_1}{\\lambda_1+\\lambda_2}$.\n\n    -   A impatient buyer arrives at random time\n        $T_2 \\sim \\exp(\\lambda_2)$.\n\n        -   $\\hookrightarrow$ a book with $m-1$ sellers.\n\n        -   ${\\mathbb{P} }(\\text{IB}|\\text{New event})=\\frac{\\lambda_2}{\\lambda_1+\\lambda_2}$.\n\n-   Thus, the expected utility of the $m$th patient seller must be given\n    by\n    $$f_m=\\frac{\\lambda_1}{\\lambda_1+\\lambda_2}\\,f_{m+1}+\\frac{\\lambda_2}{\\lambda_1+\\lambda_2}\\,f_{m-1}-r\\,\\frac{1}{\\lambda_1+\\lambda_2}$$\n\n-   Note that if an IB arrives, the seller with the lowest offer gets\n    $a_m$ and the other sellers get $f_{m-1}$. Thus $$a_m=f_{m-1}$$\n\n-   All of the $f_m$ may then be computed by induction."
    },
    {
     "cell_type": "markdown",
     "metadata": {
      "slideshow": {
       "slide_type": "slide"
      }
     },
     "source": "### The general case\n\n-   Ro\u015fu is able to compute equilibrium numerically in the general case\n    where there are also impatient sellers and patient buyers.\n\n-   He can also extend to the case where market orders are for more than\n    one share.\n\n-   The one-sided case is helpful for gaining intuition; the best bid in\n    the two-sided case may be thought of as the fixed bid price $B$ in\n    the one-sided case."
    },
    {
     "cell_type": "markdown",
     "metadata": {
      "slideshow": {
       "slide_type": "slide"
      }
     },
     "source": "### Summary of Ro\u015fu model results\n\n-   Hump-shaped limit order book.\n\n    -   Intuition: Patient sellers correctly anticipate the arrival of\n        large market orders.\n\n-   Assuming small market orders are more likely than large market\n    orders, temporary impact is larger than permanent impact.\n\n    -   Intuition (for MB): The large market buy increases the spread.\n        The spread reverts due to competition between patient sellers.\n        The higher $c=\\lambda_1/\\lambda_2$, the greater the reversion.\n\n-   Bid and ask prices comove.\n\n    -   Intuition: In this model, an MS order causes the best bid price\n        $b$ to drop. The best ask $a$ also falls but by less unless the\n        offered side of the book is full.\n        \n-   Higher activity and competition cause smaller spreads.\n\n    -   Intuition: The higher the activity $\\lambda$ is, the shorter the\n        time that a patient seller has to wait. Obviously greater\n        competition between patient sellers reduces spreads.\n\n-   In some cases, traders may submit fleeting limit orders.\n\n    -   Intuition: When the order book is full (which is when the spread\n        is at a minimum), a buyer (for example) may place a LB at the\n        best bid. The most aggressive seller will immediately cancel his\n        limit order and hit this new bid.\n\n    -   The model prediction is that fleeting limit orders will appear\n        only when the spread is at a minimum and will be placed inside\n        the spread."
    },
    {
     "cell_type": "markdown",
     "metadata": {
      "slideshow": {
       "slide_type": "slide"
      }
     },
     "source": "### Cont and Kukanov: Fill probability for large tick stocks\n\n-   As in the Parlour model, whether or not to send a limit order must\n    depend in particular on the length of the queue and your position in\n    it.\n\n    -   This particularly significant for large tick stocks where the\n        queue is long.\n\n-   So far, we have surveyed only stylized financial economics models.\n\n-   [Cont and Kukanov]<sup id=\"cite_ref-ContKukanov\" class=\"reference\"><a href=\"#cite_note-ContKukanov\"><span>[</span>4<span>]</span></a></sup> recently developed an elegant engineering approach to\n    this problem that is practical to implement."
    },
    {
     "cell_type": "markdown",
     "metadata": {
      "slideshow": {
       "slide_type": "slide"
      }
     },
     "source": "### Cont and Kukanov: optimal limit order placement\n\n-   Assume a buy order\n\n-   Venues $k=1,...,K$ are characterized by\n\n    -   Bid queue lengths $Q_k$\n\n    -   Make rebates $r_k$, take fees $f_k$, half-spread $h = s/2$.\n\n-   Simplify by assuming that any market order is sent to the venue with\n    the smallest take fee $f$.\n\n-   Order placement strategy is $X= \\left(M,L_1,...,L_K\\right)$ where\n    the components represent volumes of the single market order and the\n    $k$th limit orders respectively.\n\n-   The tradeoff is between cost and execution probability.\n\n    -   On a given exchange, the lower the price of the limit order, the\n        lower the probability of execution\n\n    -   On multiple exchanges, the higher the rebate, the longer the\n        queue length, the lower the probability of execution."
    },
    {
     "cell_type": "markdown",
     "metadata": {
      "slideshow": {
       "slide_type": "slide"
      }
     },
     "source": "### Objective function\n\n-   Denote duration of child order by $T$.\n\n-   $\\xi_k$ is the (random) outflow of limit orders (from market order\n    fills and cancelations) at venue $k$ in the interval $[0,T]$.\n\n-   Executed quantity is given by\n    $${\\mathcal{A} }(X,\\xi) = M + \\sum_k \\left\\{(\\xi_k-Q_k)^+ - (\\xi_k-Q_k-L_k)^+  \\right\\}$$\n\n-   Cost relative to mid-quote is given by\n    $${\\mathcal{C} }(X,\\xi) = (h+f)\\,M -  \\sum_k (h + r_k)\\,\\left\\{(\\xi_k-Q_k)^+ - (\\xi_k-Q_k-L_k)^+  \\right\\}$$\n\n-   Penalize under- or over-fills relative to target quantity $\\tilde X$\n    with penalty\n    $${\\mathcal{P} }(X,\\xi) = \\lambda_u(\\tilde X - {\\mathcal{A} })^+ +  \\lambda_o\\,({\\mathcal{A} }- \\tilde X)^+.$$\n\n    -   $\\lambda_u$ and $\\lambda_o$ price adverse selection."
    },
    {
     "cell_type": "markdown",
     "metadata": {
      "slideshow": {
       "slide_type": "slide"
      }
     },
     "source": "### Optimal order placement strategy\n\n-   The optimal order placement strategy $X^*$ is given by\n    $$X^* = \\arg \\min_X {\\mathbb{E} }\\left[{{\\mathcal{A} }(X,\\xi) + {\\mathcal{P} }(X,\\xi)}\\right]$$\n\n-   Assuming it is suboptimal to exceed the target $\\tilde X$ and that\n    it is better to execute with limit orders than market orders, Cont\n    and Kukanov show that there is an optimal strategy."
    },
    {
     "cell_type": "markdown",
     "metadata": {
      "slideshow": {
       "slide_type": "slide"
      }
     },
     "source": "### Solution for single venue\n\n-   If $\\lambda_u$ is in a suitable range,\n    $$L^* =F^{-1} \\left(\\frac{2 h + f + r}{\\lambda_u + h + r}\\right)-Q , \\quad\\quad M^* = \\tilde X - L^*.$$\n    where $F(\\cdot)$ denotes the distribution of $\\xi$ (which is of\n    course increasing in $\\xi$).\n\n-   Comparative statics. $L^*$ is:\n\n    -   decreasing in $Q$,\n\n    -   increasing in $h$,\n\n    -   increasing in $f$,\n\n    -   decreasing in $\\lambda_u$,\n\n    -   increasing in $r$.\n\n-   As the target size $\\tilde X$ increases, $L^*$ is fixed and $M^*$\n    increases.\n\n-   $F(\\cdot)$ may be estimated in real time using recent outflow data\n    (and potentially other signals).\n\n    -   $F(\\cdot)$ need not be parametric."
    },
    {
     "cell_type": "markdown",
     "metadata": {
      "slideshow": {
       "slide_type": "slide"
      }
     },
     "source": "### Single venue proof: Suboptimality of $L+M<\\tilde X$\n\n-   If $L+M \\leq  \\tilde X$, conditional on a given outflow realization\n    $\\xi$, the cost of execution (with under fill penalty) is:\n    $${\\mathcal{C} }+{\\mathcal{P} }=(h+f)\\,M -  (h + r)\\,\\left( {\\mathcal{A} }-M \\right) +  \\lambda_u\\,( \\tilde X-{\\mathcal{A} })^+$$\n    where the (random) number of shares executed is given by\n    $${\\mathcal{A} }=M+ (\\xi-Q)^+ - (\\xi-Q-L)^+.$$\n\n-   In a scenario where $\\xi > Q + L$, ${\\mathcal{A} }= M+L$ and so\n    $${\\mathcal{C} }+{\\mathcal{P} }=(h+f)\\,M -  (h + r)\\,L +  \\lambda_u\\,( \\tilde X-M-L)^+$$\n\n-   Increasing $L$ then reduces the cost by increasing the rebate and\n    decreasing the penalty. Optimality thus requires $\n    M+L \\geq \\tilde X.\n    $"
    },
    {
     "cell_type": "markdown",
     "metadata": {
      "slideshow": {
       "slide_type": "slide"
      }
     },
     "source": "### Single venue proof: Suboptimality of $L+M>\\tilde X$\n\n-   Then, conditional on a given outflow realization $\\xi$, the cost of\n    execution (with penalty) is:\n    \n    <a name=\"eq:xiCost\"></a>(3)\n    $${\\mathcal{C} }+{\\mathcal{P} }=(h+f)\\,M -  (h + r)\\,\\left( {\\mathcal{A} }-M \\right) +  \\lambda_u\\,( \\tilde X-{\\mathcal{A} })^++  \\lambda_o\\,({\\mathcal{A} }- \\tilde X)^+.\n    $$\n    \n\n-   We only care about cases where ${\\mathcal{A} }>\\tilde X$ when from [(3)](#eq:xiCost)\n    above\n    \n    $${\\mathcal{C} }+{\\mathcal{P} }= (2\\,h + f + r)\\,M + \\left(\\lambda_o-(h+r)\\right)\\,{\\mathcal{A} }- \\lambda_o \\,\\tilde X$$\n    \n    which is increasing in ${\\mathcal{A} }$ if $\\lambda_o >(h+r)$. The\n    optimal strategy is therefore to reduce $L$ until there is no\n    over-fill possibility."
    },
    {
     "cell_type": "markdown",
     "metadata": {
      "slideshow": {
       "slide_type": "slide"
      }
     },
     "source": "### Single venue proof: Optimal choice of $M$\n\n-   Since it is optimal to put $L+M=\\tilde X$, we can write the value\n    function in terms of $M$ only.\n\n-   From [(3)](#eq:xiCost), the value function is given by \n\n    $$\\begin{aligned}\n    V(M) = {\\mathbb{E}\\left[{ (h+f)\\,M -  (h + r)\\,\\left( {\\mathcal{A} }-M \\right)+  \\lambda_u\\,( \\tilde X-{\\mathcal{A} })^+ }\\right]}\\end{aligned}$$\n    \n    where ${\\mathcal{A} }=M+ (\\xi-Q)^+ - (\\xi-Q-\\tilde X +M)^+.$\n\n\n-   Then\n\n    $$V'(M) = {\\mathbb{E}\\left[{ (2\\,h+f+r) -  (h + r)\\,{\\partial}_M {\\mathcal{A} }-\\lambda_u\\,\\1_{\\{{\\mathcal{A} }< \\tilde X\\}}\\,{\\partial}_M {\\mathcal{A} }}\\right]}$$"
    },
    {
     "cell_type": "markdown",
     "metadata": {
      "slideshow": {
       "slide_type": "slide"
      }
     },
     "source": "-   When $\\xi \\geq Q+\\tilde X - M$, ${\\mathcal{A} }=\\tilde X$ and when\n    $\\xi < Q+\\tilde X - M$, ${\\mathcal{A} }<\\tilde X$. So\n    \n    $$\\1_{\\{\\mathcal{A} < \\tilde X\\}} = \\1_{\\{\\xi < Q+\\tilde X - M\\}}.$$\n    \n    Also\n    \n    $${\\partial}_M {\\mathcal{A} }= 1 - \\1_{\\{\\xi \\geq Q+\\tilde X - M\\}} = \\1_{\\{\\xi < Q+\\tilde X - M\\}}$$\n\n\n-   Then\n\n    $$V'(M) = {\\mathbb{E}\\left[{ (2\\,h+f+r) -  (h + r+\\lambda_u)\\,{\\partial}_M {\\mathcal{A} }}\\right]}$$\n\n\n-   Setting $V'(M)=0$, the optimal choice of $M$ satisfies\n\n    $$F\\left(Q+\\tilde X - M^\\star\\right) =F\\left(Q+L^\\star\\right) = \\frac{2\\,h+f-r}{h+r+\\lambda_u}$$\n    \n    where $F(Y) = \\Pof{\\xi \\leq Y}$ is the cumulative distribution function of $\\xi$."
    },
    {
     "cell_type": "markdown",
     "metadata": {
      "slideshow": {
       "slide_type": "slide"
      }
     },
     "source": "### Solution for multiple venues\n\n-   When the allocation is optimal, \n\n    \\begin{eqnarray*}\n    \\mathbb{P}\\left({\\mathcal{A} }(X^*,\\xi)<\\tilde X\\right)&=& \\frac{h+f+\\lambda_o}{\\lambda_u+\\lambda_o}\\\\\n    \\mathbb{P}\\left(\\left.{\\mathcal{A} }(X^*,\\xi)<\\tilde X \\right| \\xi_j > Q_j + L^*_j\\right)&=& \\frac{\\lambda_o-(h+r_j)}{\\lambda_u+\\lambda_o}\\end{eqnarray*}\n\n    -   Note that the bigger the rebate $r_j$ on a given exchange, the\n        lower the conditional shortfall probability.\n\n    -   This can be used to define $\\lambda_u$ and $\\lambda_o$ in terms\n        of maximal under-fill probabilities."
    },
    {
     "cell_type": "markdown",
     "metadata": {
      "slideshow": {
       "slide_type": "slide"
      }
     },
     "source": "### Cont and Kukanov practical implications\n\n-   One interesting insight from the solution is that execution cost is\n    lower with multiple venues relative to a single venue if the\n    outflows $\\xi_k$ are sufficiently uncorrelated.\n\n    -   This amounts to a condition for optimality of order-flow\n        fragmentation.\n\n-   In equilibrium, under competition and with smart order routing, the\n    queue sizes should adjust to reflect rebate and fee structures.\n    Indeed this has been shown empirically.\n\n    -   Short term deviations from equilibrium however (which always\n        exist in practice) permit smart traders to lower execution\n        costs.\n\n<font color=\"red\">\nFragmentation may or may not be good for society, but it is certainly\ngood for individual traders who know how to optimize order placement."
    },
    {
     "cell_type": "markdown",
     "metadata": {
      "slideshow": {
       "slide_type": "slide"
      }
     },
     "source": "### Bouchaud, M\u00e9zard and Potters\n\n[Bouchaud, M\u00e9zard and Potters]<sup id=\"cite_ref-BMP\" class=\"reference\"><a href=\"#cite_note-BMP\"><span>[</span>3<span>]</span></a></sup> present a simple model that explains the empirically-observed shape\nof the typical order book. They assume that\n\n-   Limit orders arrive at some distance $u$ to the best quote at some\n    rate $\\lambda(u)$.\n\n-   Limit orders are canceled at the constant rate $\\delta(u)$ (constant\n    in fact in the BMP version).\n\n-   The stock price diffuses, eating up all of the quantity at the best\n    quote as it moves."
    },
    {
     "cell_type": "markdown",
     "metadata": {
      "slideshow": {
       "slide_type": "slide"
      }
     },
     "source": "### Heuristic derivation of the master equation\n\n-   Consider the order density $\\rho(u,t)$ on the offered side of the\n    book where $u=L-S_t$ is the current distance to the mid-price $S_t$.\n\n-   For fixed $u$, this density will change because:\n\n    -   The stock price $S_t$ moves.\n\n    -   Limit orders arrive at rate $\\lambda(u)$.\n\n    -   Cancelations occur at the proportional rate $\\delta(u)$.\n\n-   It\u00f4\u2019s Lemma gives\n    $$d\\rho(u,t) = {\\partial}_S \\rho(u,t)\\,dS + \\frac 12 \\,{\\partial}_{S,S} \\rho(u,t) \\,dS^2 + \\lambda(u)\\,dt - \\delta(u)\\,\\rho(u,t)\\,dt.$$\n\n-   Assuming arithmetic Brownian motion so that $dS^2 = \\sigma^2\\,dt$,\n    we obtain the master equation for the evolution of the expected\n    order book density $\\hat \\rho(u,t)={\\mathbb{E} }[\\rho(u,t)]$.\n    \n    <a name=\"eq:master\"></a>(4)\n    $$\\frac {{\\partial}}{{\\partial}t}\\hat \\rho(u,t)=\\frac 1 2 \\,\\sigma^2\\,\\frac{{\\partial}^2}{{\\partial}u^2}\\hat \\rho(u,t)-\\delta(u)\\,\\hat \\rho(u,t)+\\lambda(u)\n    $$\n    \n    with the boundary condition $\\hat \\rho(0,t)=0$."
    },
    {
     "cell_type": "markdown",
     "metadata": {
      "slideshow": {
       "slide_type": "slide"
      }
     },
     "source": "### Steady-state solution of the master equation\n\nFor simplicity, set $\\sigma=1$ (we can reinstate later using dimensional\nanalysis)\n\nDenoting the steady state density by $\\bar \\rho$ and setting the time\nderivative in [(4)](#eq:master) to zero, we obtain\n\n<a name=\"eq:Bouchaud\"></a>(5)\n$$\\frac 12 \\,\\bar \\rho''(u)-\\delta(u)\\,\\bar \\rho(u)+\\lambda(u)=0$$\n\nWe can show that the general solution of [(5)](#eq:Bouchaud) is of the form\n\n<a name=\"eq:ansatz\"></a>(6)\n$$\\rho(\\Delta)=f(\\Delta)\\,\\int_0^\\Delta\\,g(u)\\,\\lambda(u)\\,du+\ng(\\Delta)\\,\\int_\\Delta^\\infty\\,f(u)\\,\\lambda(u)\\,du.\n$$ Substitution into [(5)](#eq:Bouchaud) implies that: \n\\begin{eqnarray*}\n\\frac{f''(u)}{f(u)}=\\frac{g''(u)}{g(u)}&=&2\\,\\delta(u)\\end{eqnarray*}\nwith boundary conditions $$g(0)=0;\\,f(\\infty)=0.$$"
    },
    {
     "cell_type": "markdown",
     "metadata": {
      "slideshow": {
       "slide_type": "slide"
      }
     },
     "source": "### The BMP steady-state density\n\n<font color=\"red\">\n#### Example (Constant cancelation rate)\n\nIf $\\delta(u)=\\delta$, a constant, one solution is given by\n$$f(u)=\\sqrt{\\frac 2 \\delta}\\,e^{-\\sqrt{2\\,\\delta}\\,u} \\text{ and } g(u)=\\sinh(\\sqrt{2\\,\\delta} \\,u)$$\nwhich gives us the BMP solution \n\n<a name=\"eq:bmp\"></a>(7)\n\\begin{eqnarray*}\n\\rho_{BMP}(\\Delta)&=&\\sqrt{\\frac 2 \\delta}\\,\\left\\{e^{-\\sqrt{2\\,\\delta}\\,\\Delta}\\,\\int_0^\\Delta\\,\\sinh(\\sqrt{2\\,\\delta}\\,u)\\,\\lambda(u)\\,du + \n\\sinh(\\sqrt{2\\,\\delta}\\,\\Delta)\\,\\int_\\Delta^\\infty\\,e^{-\\sqrt{2\\,\\delta}\\,u}\\,\\lambda(u)\\,du\\right\\}\n\\end{eqnarray*}"
    },
    {
     "cell_type": "markdown",
     "metadata": {
      "slideshow": {
       "slide_type": "slide"
      }
     },
     "source": "### Order book density with constant cancelation rate\n\nDefine the the characteristic distance\n$$\\tilde \\Delta=\\sqrt{\\frac{\\sigma^2}{2\\,\\delta}}.$$ Then, reinstating\n$\\sigma$, we obtain \\begin{eqnarray*}\n\\rho_{BMP}(\\Delta) &=& \\frac{2\\,\\tilde \\Delta}{\\sigma^2}\\,\\left\\{e^{-\\Delta/{\\tilde \\Delta}}\\,\\int_0^\\Delta\\,\\sinh(u/{\\tilde \\Delta})\\,\\lambda(u)\\,du +\n\\sinh(\\Delta/{\\tilde \\Delta})\\,\\int_\\Delta^\\infty\\,e^{-u/{\\tilde \\Delta}}\\,\\lambda(u)\\,du\\right\\}\\\\\n&=& \\frac 1 \\delta\\,\\left\\{e^{-\\Delta/{\\tilde \\Delta}}\\,\\int_0^{\\Delta/{\\tilde\\Delta}}\\,\\sinh(u)\\,\\lambda(\\tilde\\Delta u)\\,du +\n\\sinh(\\Delta/{\\tilde \\Delta})\\,\\int_{\\Delta/{\\tilde\\Delta}}^\\infty\\,e^{-u}\\,\\lambda(\\tilde\\Delta u)\\,du\\right\\}.\\end{eqnarray*}"
    },
    {
     "cell_type": "markdown",
     "metadata": {
      "slideshow": {
       "slide_type": "slide"
      }
     },
     "source": "### Asymptotics of SFGK\n\nSpecializing even further to the zero-intelligence SFGK model where\n$\\lambda(u)=\\lambda$, a constant, we obtain \n\n<a name=\"eq:ZI\"></a>(8)\n\\begin{eqnarray*}\n\\rho_{BMP}(\\Delta) &=& \\frac{\\lambda}{\\delta}\\,\\left\\{e^{-\\Delta/{\\tilde \\Delta}}\\,\\int_0^{\\Delta/{\\tilde\\Delta}}\\,\\sinh(u)\\,du+\n\\sinh(\\Delta/{\\tilde \\Delta})\\,\\int_{\\Delta/{\\tilde\\Delta}}^\\infty\\,e^{-u}\\,du\\right\\}\\nonumber\\\\\n&=& \\frac{\\lambda}{\\delta}\\,\\left\\{1 - e^{-\\Delta/{\\tilde \\Delta}}  \\right\\}\n\\end{eqnarray*}\n\nwhich is consistent with the asymptotic\nlimit $\\lambda/\\delta$ we derived earlier for the zero-intelligence (ZI)\nmodel using a physical argument."
    },
    {
     "cell_type": "markdown",
     "metadata": {
      "slideshow": {
       "slide_type": "slide"
      }
     },
     "source": "### Plot of approximate book density\n\nFollowing [Bouchaud, M\u00e9zard and Potters]<sup id=\"cite_ref-BMP\" class=\"reference\"><a href=\"#cite_note-BMP\"><span>[</span>3<span>]</span></a></sup>, assuming limit orders arrive as a power-law with tail\nexponent $\\mu$ so that $$\\lambda(u)=\\frac{\\lambda}{u^{1+\\mu}},$$ we\nobtain the shape of the order book should depend only on $\\mu$ and the\nrescaled distance to best quote $\\hat \\Delta := \\Delta/\\tilde \\Delta$:\n\n<a name=\"eq:bookDensityRescaled\"></a>(9)\n$$\\rho(\\hat \\Delta) \\propto e^{-\\hat \\Delta}\\,\\int_0^{\\hat \\Delta}\\,du\\,\\frac{\\sinh(u)}{u^{1+\\mu}}+\n\\sinh(\\hat \\Delta)\\,\\int_{\\hat \\Delta}^\\infty\\,du\\,\\frac{e^{-u}}{u^{1+\\mu}}$$\n\nThis shape matches average book shapes\ngenerated by zero-intelligence simulations very well."
    },
    {
     "cell_type": "markdown",
     "metadata": {
      "slideshow": {
       "slide_type": "slide"
      }
     },
     "source": "### Plot of approximate book density"
    },
    {
     "cell_type": "code",
     "collapsed": false,
     "input": "%%R\n# Density computation\nrho <- function(delhat,mu){\nf1 <- function(u){sinh(u)/u^(1+mu)};\ntmp1 <-  if(delhat < 0.0000001) 0 else exp(-delhat)*integrate(f1, lower = 0, upper = delhat)$value;\nf2 <- function(u){exp(-u)/u^(1+mu)};\ntmp2 <- if(delhat < 0.0000001) 0 else sinh(delhat)*integrate(f2, lower = delhat, upper = Inf)$value;\nreturn(tmp1+tmp2)\n}\n\nrhov <- function(u,rho){sapply(u,function(u){rho(u,rho)})}\n\n# Book shape plot\ncurve(rhov(x,.5),from=.0,to=10,col=\"red\",xlab=expression(hat(Delta)),ylab=expression(rho(hat(Delta))),n=1000)",
     "language": "python",
     "metadata": {
      "slideshow": {
       "slide_type": "slide"
      }
     },
     "outputs": [
      {
       "metadata": {},
       "output_type": "display_data",
       "png": "[encoded data removed]"
      }
     ],
     "prompt_number": 4
    },
    {
     "cell_type": "markdown",
     "metadata": {},
     "source": "Figure 3: Approximate book density with $\\mu = 1/2$"
    },
    {
     "cell_type": "markdown",
     "metadata": {
      "slideshow": {
       "slide_type": "slide"
      }
     },
     "source": "### Approximate density vs zero intelligence simulation\n\n<h2><img src=\"http://mfe.baruch.cuny.edu/wp-content/uploads/2015/01/BouchaudZIcomparison.png\" align = \"center\" width=500></h2>"
    },
    {
     "cell_type": "markdown",
     "metadata": {
      "slideshow": {
       "slide_type": "slide"
      }
     },
     "source": "### Approximate density vs empirically observed order books\n\n<h2><img src=\"http://mfe.baruch.cuny.edu/wp-content/uploads/2015/01/BouchaudEmpiricalOrderBook.png\" align = \"center\" width=600></h2>\n"
    },
    {
     "cell_type": "markdown",
     "metadata": {
      "slideshow": {
       "slide_type": "slide"
      }
     },
     "source": "### Power-law arrival of orders\n\n-   The Bouchaud et al. and Farmer et al. groups both published papers\n    showing that the density of arrival of limit orders into the order\n    book is a power-law function of distance $\\Delta$ to the best quote.\n\n-   [Mike and Farmer]<sup id=\"cite_ref-MikeFarmer\" class=\"reference\"><a href=\"#cite_note-MikeFarmer\"><span>[</span>6<span>]</span></a></sup> found and described a further beautiful regularity:\n\n    -   The distribution of distance $\\Delta$ to the same-side best\n        quote looks like Student-$t$.\n\n    -   Recall the Student-t distribution:\n        $$f(x)=\\frac{\\Gamma(\\frac{\\nu+1}{2})}{\\sqrt{\\nu\\,\\pi}\\,\\Gamma(\\frac{\\nu}{2})}\\,\\frac{1}{\\left(1+\\frac{x^2}{\\nu}\\right)^{\\frac{\\nu+1}{2}}}\\sim \\frac{1}{x^{\\nu+1}}\\text{ as }|x| \\to \\infty$$\n        so Student-t with $\\nu$ degrees of freedom has <span>*tail\n        exponent*</span> $\\nu$.\n\n-   This means in particular that market orders are less likely when the\n    spread is wide than when the spread is narrow."
    },
    {
     "cell_type": "markdown",
     "metadata": {
      "slideshow": {
       "slide_type": "slide"
      }
     },
     "source": "### Power-law order placement\n\n<h2><img src=\"http://mfe.baruch.cuny.edu/wp-content/uploads/2015/01/FarmerPlacement.png\" align = \"center\" width=600></h2>\n"
    },
    {
     "cell_type": "markdown",
     "metadata": {
      "slideshow": {
       "slide_type": "slide"
      }
     },
     "source": "### Empirically observed tail exponents\n\n-   Bouchaud, M\u00e9zard and Potters found $\\mu \\approx 0.6$ on the Paris\n    Stock Exchange (data from Feb-2001).\n\n-   Zovko and Farmer (2002) found $\\mu \\approx 1.5$ on the London Stock\n    Exchange (data from Aug-1998 to Apr-2000).\n\n-   Mike and Farmer found $\\mu \\approx 1.3$ on the London Stock Exchange\n    (data from May-2000 to Dec-2002)."
    },
    {
     "cell_type": "markdown",
     "metadata": {
      "slideshow": {
       "slide_type": "slide"
      }
     },
     "source": "### Large tick and small tick stocks\n\nIf the minimum tick size (and so the minimum spread) is more than the\nvolatility per trade, we say that the stock is a <span>*large\ntick*</span> stock. The spread for such stocks is typically one tick and\nthere is huge size at the best quote (C for example). When volatility\nper trade is larger than the tick size, we say that the stock is a\n<span>*small tick*</span> stock. The typical spread for such a stock is\nmore than one tick and there is only small size at the best quote.\n\n-   We expect the Bouchaud M\u00e9zard and Potters results to hold for small\n    tick stocks.\n\n-   For large tick stocks, there should be an accumulation of volume at\n    the best quote.\n\n-   The minimum spread cannot be smaller than the minimum tick size!"
    },
    {
     "cell_type": "markdown",
     "metadata": {
      "slideshow": {
       "slide_type": "slide"
      }
     },
     "source": "### Summary\n\n-   Parlour (1998) shows that a rational market order/ limit order\n    decision should depend on the state of the order book\n\n-   Foucault, Kadan and Kandel (2005) model the order book as a market\n    for immediacy, relating the spread to the ratio between patient and\n    impatient traders\n\n-   Ro\u015fu (2009) removes many over-stylized features of FKK (2005) by\n    allowing instantaneous cancelation of orders\n\n-   Cont and Kukanov (2013) show how to incorporate the fee structures\n    and current queue lengths in different venues top optimize the\n    market/limit order mix.\n\n-   Bouchaud, M\u00e9zard and Potters show that the average order book shape,\n    consistent with ZI simulation and empirical observation, may be\n    derived using a simple price diffusion approximation\n\n-   Mike and Farmer find a simple empirical relationship between the\n    arrival rates of limit and market orders"
    },
    {
     "cell_type": "markdown",
     "metadata": {
      "slideshow": {
       "slide_type": "slide"
      }
     },
     "source": "### References\n\n<br />\n\n<div class=\"reflist\" style=\"list-style-type: decimal;\">\n\n<ol>\n\n  <li id=\"cite_note-BHS\"><span class=\"mw-cite-backlink\"><b><a href=\"#cite_ref-BHS\">^</a></b></span> Bruno Biais, Pierre Hillion, and Chester Spatt, An Empirical Analysis of\nthe Limit Order Book and the Order Flow in the Paris Bourse, <span>*The\nJournal of Finance*</span> <span>**50**</span>(5) 1655\u20131689, 1995.</li>\n\n\n  <li id=\"cite_note-BouchaudFarmerLillo\"><span class=\"mw-cite-backlink\"><b><a href=\"#cite_ref-BouchaudFarmerLillo\">^</a></b></span>   Jean-Philippe Bouchaud, J. Doyne Farmer, and Fabrizio Lillo, How Markets\nSlowly Digest Changes in Supply and Demand, in <span>*Handbook of\nFinancial Markets: Dynamics and Evolution*</span> 57-156. (2009)\navailable at\nhttp://tuvalu.santafe.edu/%7Ejdf/papers/MarketsSlowlyDigest.pdf:\nSections 2.2 and 2.9.3.</li>\n\n\n  <li id=\"cite_note-BMP\"><span class=\"mw-cite-backlink\"><b><a href=\"#cite_ref-BMP\">^</a></b></span>   Jean-Philippe Bouchaud, Marc M\u00e9zard and Marc Potters, Statistical\nproperties of stock order books: empirical results and models,\n<span>*Quantitative Finance*</span> <span>**2**</span>(4) 251\u2013256\n(2002).</li>\n\n  \n  <li id=\"cite_note-ContKukanov\"><span class=\"mw-cite-backlink\"><b><a href=\"#cite_ref-ContKukanov\">^</a></b></span>   Rama Cont and Arseniy Kukanov, Optimal order placement in limit order\nmarkets, available at <http://ssrn.com/abstract=2155218> (2013).</li>\n  \n  \n    <li id=\"cite_note-Hasbrouck\"><span class=\"mw-cite-backlink\"><b><a href=\"#cite_ref-Hasbrouck\">^</a></b></span>   Joel Hasbrouck, <span>*Empirical Market Microstructure*</span>, Oxford\nUniversity Press, Chapter 12 (2007).</li>\n\n\n    <li id=\"cite_note-MikeFarmer\"><span class=\"mw-cite-backlink\"><b><a href=\"#cite_ref-MikeFarmer\">^</a></b></span>   Szabolcs Mike and J. Doyne Farmer, An empirical behavioral model of\nliquidity and volatility, <span>*Journal of Economic Dynamics &\nControl*</span> <span>**32**</span> 200\u2013234 (2008).</li>\n\n    <li id=\"cite_note-Parlour\"><span class=\"mw-cite-backlink\"><b><a href=\"#cite_ref-Parlour\">^</a></b></span>   Christine A Parlour, Price dynamics in limit order markets,<span>*The\nReview of Financial Studies*</span> <span>**11**</span>(4) 789\u2013816\n(1998).</li>\n\n    <li id=\"cite_note-Rosu\"><span class=\"mw-cite-backlink\"><b><a href=\"#cite_ref-Rosu\">^</a></b></span>Ioanid Ro\u015fu, A dynamic model of the limit order book, <span>*Review of\nFinancial Studies*</span> <span>**22**</span>(11) 4601\u20134641 (2009).</li>\n</ol>"
    }
   ],
   "metadata": {}
  }
 ]
}